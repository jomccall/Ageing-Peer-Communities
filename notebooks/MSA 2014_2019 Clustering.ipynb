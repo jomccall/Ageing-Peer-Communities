{
 "cells": [
  {
   "cell_type": "markdown",
   "id": "e2f0b692",
   "metadata": {},
   "source": [
    "## Imports"
   ]
  },
  {
   "cell_type": "code",
   "execution_count": 46,
   "id": "13ba362b",
   "metadata": {},
   "outputs": [],
   "source": [
    "import pandas as pd\n",
    "import geopandas as gpd\n",
    "import folium\n",
    "import numpy as np\n",
    "import matplotlib.pyplot as plt\n",
    "import seaborn as sns\n",
    "from mpl_toolkits.mplot3d import Axes3D\n",
    "from sklearn.cluster import KMeans\n",
    "from sklearn.preprocessing import MinMaxScaler\n",
    "%matplotlib inline"
   ]
  },
  {
   "cell_type": "markdown",
   "id": "85cd5c4f",
   "metadata": {},
   "source": [
    "## Bring in our file"
   ]
  },
  {
   "cell_type": "code",
   "execution_count": 88,
   "id": "6727a899",
   "metadata": {},
   "outputs": [],
   "source": [
    "# 2019 shapefile\n",
    "data = pd.read_csv('../output/csv/agegroupshomevalue_2014_2019_cbsa.csv')"
   ]
  },
  {
   "cell_type": "code",
   "execution_count": 89,
   "id": "dfb5f652",
   "metadata": {},
   "outputs": [
    {
     "data": {
      "text/html": [
       "<div>\n",
       "<style scoped>\n",
       "    .dataframe tbody tr th:only-of-type {\n",
       "        vertical-align: middle;\n",
       "    }\n",
       "\n",
       "    .dataframe tbody tr th {\n",
       "        vertical-align: top;\n",
       "    }\n",
       "\n",
       "    .dataframe thead th {\n",
       "        text-align: right;\n",
       "    }\n",
       "</style>\n",
       "<table border=\"1\" class=\"dataframe\">\n",
       "  <thead>\n",
       "    <tr style=\"text-align: right;\">\n",
       "      <th></th>\n",
       "      <th>CBSA</th>\n",
       "      <th>GEOID</th>\n",
       "      <th>total</th>\n",
       "      <th>child</th>\n",
       "      <th>taxbase</th>\n",
       "      <th>O65</th>\n",
       "      <th>Pchild</th>\n",
       "      <th>Ptaxbase</th>\n",
       "      <th>PO65</th>\n",
       "      <th>homevalue</th>\n",
       "      <th>...</th>\n",
       "      <th>totalpercchange</th>\n",
       "      <th>O65sharechange</th>\n",
       "      <th>taxbasesharechange</th>\n",
       "      <th>childsharechange</th>\n",
       "      <th>O65realchange</th>\n",
       "      <th>taxbaserealchange</th>\n",
       "      <th>childrealchange</th>\n",
       "      <th>totalrealchange</th>\n",
       "      <th>homepercchange</th>\n",
       "      <th>homerealchange</th>\n",
       "    </tr>\n",
       "  </thead>\n",
       "  <tbody>\n",
       "    <tr>\n",
       "      <th>0</th>\n",
       "      <td>Big Stone Gap, VA Micro Area</td>\n",
       "      <td>310M500US13720</td>\n",
       "      <td>42456</td>\n",
       "      <td>8403</td>\n",
       "      <td>26596</td>\n",
       "      <td>7457</td>\n",
       "      <td>19.8</td>\n",
       "      <td>62.6</td>\n",
       "      <td>17.6</td>\n",
       "      <td>86200</td>\n",
       "      <td>...</td>\n",
       "      <td>-29.82</td>\n",
       "      <td>2.2</td>\n",
       "      <td>-1.5</td>\n",
       "      <td>-0.7</td>\n",
       "      <td>-1867</td>\n",
       "      <td>-12204</td>\n",
       "      <td>-3972</td>\n",
       "      <td>-18043</td>\n",
       "      <td>4.11</td>\n",
       "      <td>3400</td>\n",
       "    </tr>\n",
       "    <tr>\n",
       "      <th>1</th>\n",
       "      <td>Billings, MT Metro Area</td>\n",
       "      <td>310M500US13740</td>\n",
       "      <td>179071</td>\n",
       "      <td>41435</td>\n",
       "      <td>106634</td>\n",
       "      <td>31002</td>\n",
       "      <td>23.1</td>\n",
       "      <td>59.5</td>\n",
       "      <td>17.3</td>\n",
       "      <td>227900</td>\n",
       "      <td>...</td>\n",
       "      <td>9.93</td>\n",
       "      <td>2.2</td>\n",
       "      <td>-2.1</td>\n",
       "      <td>-0.2</td>\n",
       "      <td>6360</td>\n",
       "      <td>6358</td>\n",
       "      <td>3461</td>\n",
       "      <td>16179</td>\n",
       "      <td>21.81</td>\n",
       "      <td>40800</td>\n",
       "    </tr>\n",
       "    <tr>\n",
       "      <th>2</th>\n",
       "      <td>Binghamton, NY Metro Area</td>\n",
       "      <td>310M500US13780</td>\n",
       "      <td>241874</td>\n",
       "      <td>47899</td>\n",
       "      <td>148264</td>\n",
       "      <td>45711</td>\n",
       "      <td>19.8</td>\n",
       "      <td>61.3</td>\n",
       "      <td>18.9</td>\n",
       "      <td>117600</td>\n",
       "      <td>...</td>\n",
       "      <td>-2.96</td>\n",
       "      <td>2.0</td>\n",
       "      <td>-1.4</td>\n",
       "      <td>-0.6</td>\n",
       "      <td>3571</td>\n",
       "      <td>-8059</td>\n",
       "      <td>-2899</td>\n",
       "      <td>-7387</td>\n",
       "      <td>8.09</td>\n",
       "      <td>8800</td>\n",
       "    </tr>\n",
       "  </tbody>\n",
       "</table>\n",
       "<p>3 rows × 35 columns</p>\n",
       "</div>"
      ],
      "text/plain": [
       "                           CBSA           GEOID   total  child  taxbase  \\\n",
       "0  Big Stone Gap, VA Micro Area  310M500US13720   42456   8403    26596   \n",
       "1       Billings, MT Metro Area  310M500US13740  179071  41435   106634   \n",
       "2     Binghamton, NY Metro Area  310M500US13780  241874  47899   148264   \n",
       "\n",
       "     O65  Pchild  Ptaxbase  PO65  homevalue  ...  totalpercchange  \\\n",
       "0   7457    19.8      62.6  17.6      86200  ...           -29.82   \n",
       "1  31002    23.1      59.5  17.3     227900  ...             9.93   \n",
       "2  45711    19.8      61.3  18.9     117600  ...            -2.96   \n",
       "\n",
       "   O65sharechange  taxbasesharechange  childsharechange  O65realchange  \\\n",
       "0             2.2                -1.5              -0.7          -1867   \n",
       "1             2.2                -2.1              -0.2           6360   \n",
       "2             2.0                -1.4              -0.6           3571   \n",
       "\n",
       "   taxbaserealchange  childrealchange  totalrealchange homepercchange  \\\n",
       "0             -12204            -3972           -18043           4.11   \n",
       "1               6358             3461            16179          21.81   \n",
       "2              -8059            -2899            -7387           8.09   \n",
       "\n",
       "  homerealchange  \n",
       "0           3400  \n",
       "1          40800  \n",
       "2           8800  \n",
       "\n",
       "[3 rows x 35 columns]"
      ]
     },
     "execution_count": 89,
     "metadata": {},
     "output_type": "execute_result"
    }
   ],
   "source": [
    "data.head(3)"
   ]
  },
  {
   "cell_type": "code",
   "execution_count": 90,
   "id": "31bdc4ff",
   "metadata": {},
   "outputs": [
    {
     "name": "stdout",
     "output_type": "stream",
     "text": [
      "<class 'pandas.core.frame.DataFrame'>\n",
      "RangeIndex: 859 entries, 0 to 858\n",
      "Data columns (total 35 columns):\n",
      " #   Column              Non-Null Count  Dtype  \n",
      "---  ------              --------------  -----  \n",
      " 0   CBSA                859 non-null    object \n",
      " 1   GEOID               859 non-null    object \n",
      " 2   total               859 non-null    int64  \n",
      " 3   child               859 non-null    int64  \n",
      " 4   taxbase             859 non-null    int64  \n",
      " 5   O65                 859 non-null    int64  \n",
      " 6   Pchild              859 non-null    float64\n",
      " 7   Ptaxbase            859 non-null    float64\n",
      " 8   PO65                859 non-null    float64\n",
      " 9   homevalue           859 non-null    int64  \n",
      " 10  O*total             859 non-null    int64  \n",
      " 11  O*child             859 non-null    int64  \n",
      " 12  O*taxbase           859 non-null    int64  \n",
      " 13  O*O65               859 non-null    int64  \n",
      " 14  O*Pchild            859 non-null    float64\n",
      " 15  O*Ptaxbase          859 non-null    float64\n",
      " 16  O*PO65              859 non-null    float64\n",
      " 17  O*homevalue         859 non-null    int64  \n",
      " 18  Name                859 non-null    object \n",
      " 19  State               859 non-null    object \n",
      " 20  Area                859 non-null    object \n",
      " 21  CBSAFIPS            859 non-null    int64  \n",
      " 22  O65percchange       859 non-null    float64\n",
      " 23  taxbasepercchange   859 non-null    float64\n",
      " 24  childpercchange     859 non-null    float64\n",
      " 25  totalpercchange     859 non-null    float64\n",
      " 26  O65sharechange      859 non-null    float64\n",
      " 27  taxbasesharechange  859 non-null    float64\n",
      " 28  childsharechange    859 non-null    float64\n",
      " 29  O65realchange       859 non-null    int64  \n",
      " 30  taxbaserealchange   859 non-null    int64  \n",
      " 31  childrealchange     859 non-null    int64  \n",
      " 32  totalrealchange     859 non-null    int64  \n",
      " 33  homepercchange      859 non-null    float64\n",
      " 34  homerealchange      859 non-null    int64  \n",
      "dtypes: float64(14), int64(16), object(5)\n",
      "memory usage: 235.0+ KB\n"
     ]
    }
   ],
   "source": [
    "data.info(verbose=True)"
   ]
  },
  {
   "cell_type": "markdown",
   "id": "a6c7d34e",
   "metadata": {},
   "source": [
    "## Bring in shapefile to join here for areas"
   ]
  },
  {
   "cell_type": "code",
   "execution_count": 91,
   "id": "f2329f96",
   "metadata": {},
   "outputs": [
    {
     "name": "stdout",
     "output_type": "stream",
     "text": [
      "<class 'geopandas.geodataframe.GeoDataFrame'>\n",
      "RangeIndex: 938 entries, 0 to 937\n",
      "Data columns (total 13 columns):\n",
      " #   Column    Non-Null Count  Dtype   \n",
      "---  ------    --------------  -----   \n",
      " 0   CSAFP     550 non-null    object  \n",
      " 1   CBSAFP    938 non-null    object  \n",
      " 2   GEOID     938 non-null    object  \n",
      " 3   NAME      938 non-null    object  \n",
      " 4   NAMELSAD  938 non-null    object  \n",
      " 5   LSAD      938 non-null    object  \n",
      " 6   MEMI      938 non-null    object  \n",
      " 7   MTFCC     938 non-null    object  \n",
      " 8   ALAND     938 non-null    int64   \n",
      " 9   AWATER    938 non-null    int64   \n",
      " 10  INTPTLAT  938 non-null    object  \n",
      " 11  INTPTLON  938 non-null    object  \n",
      " 12  geometry  938 non-null    geometry\n",
      "dtypes: geometry(1), int64(2), object(10)\n",
      "memory usage: 95.4+ KB\n"
     ]
    }
   ],
   "source": [
    "#extract GeoDataFrame from Tiger\n",
    "url= 'https://www2.census.gov/geo/tiger/TIGER2019/CBSA/tl_2019_us_cbsa.zip'\n",
    "geo = gpd.read_file(url)\n",
    "geo.info()"
   ]
  },
  {
   "cell_type": "code",
   "execution_count": 92,
   "id": "1d5ec0b4",
   "metadata": {},
   "outputs": [],
   "source": [
    "geo['CBSAFP'] = geo['CBSAFP'].astype(int)"
   ]
  },
  {
   "cell_type": "code",
   "execution_count": 93,
   "id": "d9e665c4",
   "metadata": {},
   "outputs": [],
   "source": [
    "data_geo = geo.merge(data, left_on='CBSAFP', right_on='CBSAFIPS')"
   ]
  },
  {
   "cell_type": "code",
   "execution_count": 94,
   "id": "c594523f",
   "metadata": {},
   "outputs": [
    {
     "name": "stdout",
     "output_type": "stream",
     "text": [
      "<class 'geopandas.geodataframe.GeoDataFrame'>\n",
      "Int64Index: 859 entries, 0 to 858\n",
      "Data columns (total 48 columns):\n",
      " #   Column              Non-Null Count  Dtype   \n",
      "---  ------              --------------  -----   \n",
      " 0   CSAFP               497 non-null    object  \n",
      " 1   CBSAFP              859 non-null    int32   \n",
      " 2   GEOID_x             859 non-null    object  \n",
      " 3   NAME                859 non-null    object  \n",
      " 4   NAMELSAD            859 non-null    object  \n",
      " 5   LSAD                859 non-null    object  \n",
      " 6   MEMI                859 non-null    object  \n",
      " 7   MTFCC               859 non-null    object  \n",
      " 8   ALAND               859 non-null    int64   \n",
      " 9   AWATER              859 non-null    int64   \n",
      " 10  INTPTLAT            859 non-null    object  \n",
      " 11  INTPTLON            859 non-null    object  \n",
      " 12  geometry            859 non-null    geometry\n",
      " 13  CBSA                859 non-null    object  \n",
      " 14  GEOID_y             859 non-null    object  \n",
      " 15  total               859 non-null    int64   \n",
      " 16  child               859 non-null    int64   \n",
      " 17  taxbase             859 non-null    int64   \n",
      " 18  O65                 859 non-null    int64   \n",
      " 19  Pchild              859 non-null    float64 \n",
      " 20  Ptaxbase            859 non-null    float64 \n",
      " 21  PO65                859 non-null    float64 \n",
      " 22  homevalue           859 non-null    int64   \n",
      " 23  O*total             859 non-null    int64   \n",
      " 24  O*child             859 non-null    int64   \n",
      " 25  O*taxbase           859 non-null    int64   \n",
      " 26  O*O65               859 non-null    int64   \n",
      " 27  O*Pchild            859 non-null    float64 \n",
      " 28  O*Ptaxbase          859 non-null    float64 \n",
      " 29  O*PO65              859 non-null    float64 \n",
      " 30  O*homevalue         859 non-null    int64   \n",
      " 31  Name                859 non-null    object  \n",
      " 32  State               859 non-null    object  \n",
      " 33  Area                859 non-null    object  \n",
      " 34  CBSAFIPS            859 non-null    int64   \n",
      " 35  O65percchange       859 non-null    float64 \n",
      " 36  taxbasepercchange   859 non-null    float64 \n",
      " 37  childpercchange     859 non-null    float64 \n",
      " 38  totalpercchange     859 non-null    float64 \n",
      " 39  O65sharechange      859 non-null    float64 \n",
      " 40  taxbasesharechange  859 non-null    float64 \n",
      " 41  childsharechange    859 non-null    float64 \n",
      " 42  O65realchange       859 non-null    int64   \n",
      " 43  taxbaserealchange   859 non-null    int64   \n",
      " 44  childrealchange     859 non-null    int64   \n",
      " 45  totalrealchange     859 non-null    int64   \n",
      " 46  homepercchange      859 non-null    float64 \n",
      " 47  homerealchange      859 non-null    int64   \n",
      "dtypes: float64(14), geometry(1), int32(1), int64(18), object(14)\n",
      "memory usage: 325.5+ KB\n"
     ]
    }
   ],
   "source": [
    "data_geo.info(verbose=True)"
   ]
  },
  {
   "cell_type": "code",
   "execution_count": 95,
   "id": "403391b2",
   "metadata": {},
   "outputs": [],
   "source": [
    "data_geo = data_geo.drop(columns = ['CSAFP','CBSAFP','GEOID_y','NAME','Area','Name','NAMELSAD','MEMI','MTFCC','INTPTLAT','INTPTLON'])"
   ]
  },
  {
   "cell_type": "code",
   "execution_count": 96,
   "id": "632d86ff",
   "metadata": {},
   "outputs": [],
   "source": [
    "data_geo = data_geo.rename(columns={'LSAD':'Micro_Metro','GEOID_x':'GEOID'})"
   ]
  },
  {
   "cell_type": "code",
   "execution_count": 97,
   "id": "2e9aec4e",
   "metadata": {},
   "outputs": [
    {
     "data": {
      "text/html": [
       "<div>\n",
       "<style scoped>\n",
       "    .dataframe tbody tr th:only-of-type {\n",
       "        vertical-align: middle;\n",
       "    }\n",
       "\n",
       "    .dataframe tbody tr th {\n",
       "        vertical-align: top;\n",
       "    }\n",
       "\n",
       "    .dataframe thead th {\n",
       "        text-align: right;\n",
       "    }\n",
       "</style>\n",
       "<table border=\"1\" class=\"dataframe\">\n",
       "  <thead>\n",
       "    <tr style=\"text-align: right;\">\n",
       "      <th></th>\n",
       "      <th>GEOID</th>\n",
       "      <th>Micro_Metro</th>\n",
       "      <th>ALAND</th>\n",
       "      <th>AWATER</th>\n",
       "      <th>geometry</th>\n",
       "      <th>CBSA</th>\n",
       "      <th>total</th>\n",
       "      <th>child</th>\n",
       "      <th>taxbase</th>\n",
       "      <th>O65</th>\n",
       "      <th>...</th>\n",
       "      <th>totalpercchange</th>\n",
       "      <th>O65sharechange</th>\n",
       "      <th>taxbasesharechange</th>\n",
       "      <th>childsharechange</th>\n",
       "      <th>O65realchange</th>\n",
       "      <th>taxbaserealchange</th>\n",
       "      <th>childrealchange</th>\n",
       "      <th>totalrealchange</th>\n",
       "      <th>homepercchange</th>\n",
       "      <th>homerealchange</th>\n",
       "    </tr>\n",
       "  </thead>\n",
       "  <tbody>\n",
       "    <tr>\n",
       "      <th>0</th>\n",
       "      <td>12020</td>\n",
       "      <td>M1</td>\n",
       "      <td>2654601832</td>\n",
       "      <td>26140309</td>\n",
       "      <td>POLYGON ((-83.53739 33.96591, -83.53184 33.968...</td>\n",
       "      <td>Athens-Clarke County, GA Metro Area</td>\n",
       "      <td>208457</td>\n",
       "      <td>42122</td>\n",
       "      <td>139587</td>\n",
       "      <td>26748</td>\n",
       "      <td>...</td>\n",
       "      <td>6.20</td>\n",
       "      <td>1.9</td>\n",
       "      <td>-1.7</td>\n",
       "      <td>-0.2</td>\n",
       "      <td>5284</td>\n",
       "      <td>4799</td>\n",
       "      <td>2087</td>\n",
       "      <td>12170</td>\n",
       "      <td>12.67</td>\n",
       "      <td>20100</td>\n",
       "    </tr>\n",
       "    <tr>\n",
       "      <th>1</th>\n",
       "      <td>12100</td>\n",
       "      <td>M1</td>\n",
       "      <td>1438776649</td>\n",
       "      <td>301268696</td>\n",
       "      <td>POLYGON ((-74.85675 39.42076, -74.85670 39.420...</td>\n",
       "      <td>Atlantic City-Hammonton, NJ Metro Area</td>\n",
       "      <td>266105</td>\n",
       "      <td>57085</td>\n",
       "      <td>162363</td>\n",
       "      <td>46657</td>\n",
       "      <td>...</td>\n",
       "      <td>-3.35</td>\n",
       "      <td>2.6</td>\n",
       "      <td>-1.4</td>\n",
       "      <td>-1.1</td>\n",
       "      <td>5500</td>\n",
       "      <td>-9486</td>\n",
       "      <td>-5234</td>\n",
       "      <td>-9220</td>\n",
       "      <td>-5.34</td>\n",
       "      <td>-12300</td>\n",
       "    </tr>\n",
       "    <tr>\n",
       "      <th>2</th>\n",
       "      <td>12140</td>\n",
       "      <td>M2</td>\n",
       "      <td>939731962</td>\n",
       "      <td>2657419</td>\n",
       "      <td>POLYGON ((-85.19295 41.38001, -85.19296 41.381...</td>\n",
       "      <td>Auburn, IN Micro Area</td>\n",
       "      <td>42927</td>\n",
       "      <td>10472</td>\n",
       "      <td>25677</td>\n",
       "      <td>6778</td>\n",
       "      <td>...</td>\n",
       "      <td>1.43</td>\n",
       "      <td>1.8</td>\n",
       "      <td>-0.8</td>\n",
       "      <td>-1.1</td>\n",
       "      <td>871</td>\n",
       "      <td>43</td>\n",
       "      <td>-308</td>\n",
       "      <td>606</td>\n",
       "      <td>14.67</td>\n",
       "      <td>15900</td>\n",
       "    </tr>\n",
       "  </tbody>\n",
       "</table>\n",
       "<p>3 rows × 37 columns</p>\n",
       "</div>"
      ],
      "text/plain": [
       "   GEOID Micro_Metro       ALAND     AWATER  \\\n",
       "0  12020          M1  2654601832   26140309   \n",
       "1  12100          M1  1438776649  301268696   \n",
       "2  12140          M2   939731962    2657419   \n",
       "\n",
       "                                            geometry  \\\n",
       "0  POLYGON ((-83.53739 33.96591, -83.53184 33.968...   \n",
       "1  POLYGON ((-74.85675 39.42076, -74.85670 39.420...   \n",
       "2  POLYGON ((-85.19295 41.38001, -85.19296 41.381...   \n",
       "\n",
       "                                     CBSA   total  child  taxbase    O65  ...  \\\n",
       "0     Athens-Clarke County, GA Metro Area  208457  42122   139587  26748  ...   \n",
       "1  Atlantic City-Hammonton, NJ Metro Area  266105  57085   162363  46657  ...   \n",
       "2                   Auburn, IN Micro Area   42927  10472    25677   6778  ...   \n",
       "\n",
       "   totalpercchange  O65sharechange  taxbasesharechange  childsharechange  \\\n",
       "0             6.20             1.9                -1.7              -0.2   \n",
       "1            -3.35             2.6                -1.4              -1.1   \n",
       "2             1.43             1.8                -0.8              -1.1   \n",
       "\n",
       "   O65realchange  taxbaserealchange  childrealchange  totalrealchange  \\\n",
       "0           5284               4799             2087            12170   \n",
       "1           5500              -9486            -5234            -9220   \n",
       "2            871                 43             -308              606   \n",
       "\n",
       "   homepercchange  homerealchange  \n",
       "0           12.67           20100  \n",
       "1           -5.34          -12300  \n",
       "2           14.67           15900  \n",
       "\n",
       "[3 rows x 37 columns]"
      ]
     },
     "execution_count": 97,
     "metadata": {},
     "output_type": "execute_result"
    }
   ],
   "source": [
    "data_geo.head(3)"
   ]
  },
  {
   "cell_type": "code",
   "execution_count": 98,
   "id": "78b16c10",
   "metadata": {},
   "outputs": [],
   "source": [
    "data_geo['ALAND'] = data_geo['ALAND'] * 0.0000003861\n",
    "data_geo['AWATER'] = data_geo['AWATER'] * 0.0000003861"
   ]
  },
  {
   "cell_type": "code",
   "execution_count": 99,
   "id": "026213bd",
   "metadata": {},
   "outputs": [],
   "source": [
    "data_geo['popdensity14'] = data_geo['O*total']/data_geo['ALAND']\n",
    "data_geo['popdensity19'] = data_geo['O*total']/data_geo['ALAND']\n",
    "data_geo['elderlypopdensity14'] = data_geo['O*O65']/data_geo['ALAND']\n",
    "data_geo['elderlypopdensity19'] = data_geo['O65']/data_geo['ALAND']\n",
    "data_geo['tbdensity14'] = data_geo['O*taxbase']/data_geo['ALAND']\n",
    "data_geo['tbdensity19'] = data_geo['taxbase']/data_geo['ALAND']\n",
    "data_geo['childdensity14'] = data_geo['O*child']/data_geo['ALAND']\n",
    "data_geo['childdensity19'] = data_geo['child']/data_geo['ALAND']"
   ]
  },
  {
   "cell_type": "markdown",
   "id": "3d9220f3",
   "metadata": {},
   "source": [
    "###### Convert land and water areas to proper units.\n",
    "\n",
    "We have this in square meters, so the converstion factor is 0.0000003861 to get this to square miles."
   ]
  },
  {
   "cell_type": "markdown",
   "id": "5454cd0c",
   "metadata": {},
   "source": [
    "## Check out some data shapes"
   ]
  },
  {
   "cell_type": "markdown",
   "id": "a8549a14",
   "metadata": {},
   "source": [
    "First we're looking at two percent changes together, this is pretty linear which makes sense."
   ]
  },
  {
   "cell_type": "code",
   "execution_count": 100,
   "id": "2169f861",
   "metadata": {},
   "outputs": [
    {
     "data": {
      "text/plain": [
       "<matplotlib.collections.PathCollection at 0x2225e4c8a90>"
      ]
     },
     "execution_count": 100,
     "metadata": {},
     "output_type": "execute_result"
    },
    {
     "data": {
      "image/png": "[encoded data removed]",
      "text/plain": [
       "<Figure size 432x288 with 1 Axes>"
      ]
     },
     "metadata": {
      "needs_background": "light"
     },
     "output_type": "display_data"
    }
   ],
   "source": [
    "plt.scatter(data_geo['O65percchange'], data_geo['taxbasepercchange'])"
   ]
  },
  {
   "cell_type": "markdown",
   "id": "aa084305",
   "metadata": {},
   "source": [
    "I want to see what a real change versus percent change in 65+ looks like next."
   ]
  },
  {
   "cell_type": "code",
   "execution_count": 101,
   "id": "a91a036a",
   "metadata": {},
   "outputs": [
    {
     "data": {
      "text/plain": [
       "<matplotlib.collections.PathCollection at 0x22255c242e0>"
      ]
     },
     "execution_count": 101,
     "metadata": {},
     "output_type": "execute_result"
    },
    {
     "data": {
      "image/png": "[encoded data removed]",
      "text/plain": [
       "<Figure size 432x288 with 1 Axes>"
      ]
     },
     "metadata": {
      "needs_background": "light"
     },
     "output_type": "display_data"
    }
   ],
   "source": [
    "plt.scatter(data_geo['O65percchange'], data_geo['totalrealchange'])"
   ]
  },
  {
   "cell_type": "markdown",
   "id": "b633932e",
   "metadata": {},
   "source": [
    "Now let's see about share change versus percent then real change."
   ]
  },
  {
   "cell_type": "code",
   "execution_count": 102,
   "id": "d3c03119",
   "metadata": {},
   "outputs": [
    {
     "data": {
      "text/plain": [
       "<matplotlib.collections.PathCollection at 0x2225a280460>"
      ]
     },
     "execution_count": 102,
     "metadata": {},
     "output_type": "execute_result"
    },
    {
     "data": {
      "image/png": "[encoded data removed]",
      "text/plain": [
       "<Figure size 432x288 with 1 Axes>"
      ]
     },
     "metadata": {
      "needs_background": "light"
     },
     "output_type": "display_data"
    }
   ],
   "source": [
    "plt.scatter(data_geo['O65sharechange'], data_geo['totalpercchange'])"
   ]
  },
  {
   "cell_type": "code",
   "execution_count": 103,
   "id": "f8236054",
   "metadata": {},
   "outputs": [
    {
     "data": {
      "text/plain": [
       "<matplotlib.collections.PathCollection at 0x2225a238c70>"
      ]
     },
     "execution_count": 103,
     "metadata": {},
     "output_type": "execute_result"
    },
    {
     "data": {
      "image/png": "[encoded data removed]",
      "text/plain": [
       "<Figure size 432x288 with 1 Axes>"
      ]
     },
     "metadata": {
      "needs_background": "light"
     },
     "output_type": "display_data"
    }
   ],
   "source": [
    "plt.scatter(data_geo['O65sharechange'], data_geo['totalrealchange'])"
   ]
  },
  {
   "cell_type": "markdown",
   "id": "8f263dcb",
   "metadata": {},
   "source": [
    "We're getting some interesting shapes here - now I'm going to bring in the home value. First we'll do 65+ percent change versus percent change in home value."
   ]
  },
  {
   "cell_type": "code",
   "execution_count": 105,
   "id": "1f3ddd0b",
   "metadata": {},
   "outputs": [
    {
     "data": {
      "text/plain": [
       "<matplotlib.collections.PathCollection at 0x2225a3b2a60>"
      ]
     },
     "execution_count": 105,
     "metadata": {},
     "output_type": "execute_result"
    },
    {
     "data": {
      "image/png": "[encoded data removed]",
      "text/plain": [
       "<Figure size 432x288 with 1 Axes>"
      ]
     },
     "metadata": {
      "needs_background": "light"
     },
     "output_type": "display_data"
    }
   ],
   "source": [
    "plt.scatter(data_geo['O65sharechange'], data_geo['homerealchange'])"
   ]
  },
  {
   "cell_type": "code",
   "execution_count": 106,
   "id": "824dea07",
   "metadata": {},
   "outputs": [
    {
     "data": {
      "text/plain": [
       "<matplotlib.collections.PathCollection at 0x2225a0fc6d0>"
      ]
     },
     "execution_count": 106,
     "metadata": {},
     "output_type": "execute_result"
    },
    {
     "data": {
      "image/png": "[encoded data removed]",
      "text/plain": [
       "<Figure size 432x288 with 1 Axes>"
      ]
     },
     "metadata": {
      "needs_background": "light"
     },
     "output_type": "display_data"
    }
   ],
   "source": [
    "plt.scatter(data_geo['O65percchange'], data_geo['homerealchange'])"
   ]
  },
  {
   "cell_type": "code",
   "execution_count": 120,
   "id": "b3338e42",
   "metadata": {},
   "outputs": [
    {
     "name": "stderr",
     "output_type": "stream",
     "text": [
      "C:\\Users\\jmccall\\Anaconda3\\envs\\geospatial\\lib\\site-packages\\matplotlib\\collections.py:922: RuntimeWarning: invalid value encountered in sqrt\n",
      "  scale = np.sqrt(self._sizes) * dpi / 72.0 * self._factor\n"
     ]
    },
    {
     "data": {
      "text/plain": [
       "<matplotlib.collections.PathCollection at 0x2225a478e50>"
      ]
     },
     "execution_count": 120,
     "metadata": {},
     "output_type": "execute_result"
    },
    {
     "data": {
      "image/png": "[encoded data removed]",
      "text/plain": [
       "<Figure size 432x288 with 1 Axes>"
      ]
     },
     "metadata": {
      "needs_background": "light"
     },
     "output_type": "display_data"
    }
   ],
   "source": [
    "plt.scatter(data_geo['O65realchange'], data_geo['homerealchange'], data_geo['totalpercchange'])"
   ]
  },
  {
   "cell_type": "code",
   "execution_count": 108,
   "id": "63cb73b9",
   "metadata": {},
   "outputs": [
    {
     "data": {
      "text/plain": [
       "<matplotlib.collections.PathCollection at 0x2225a376af0>"
      ]
     },
     "execution_count": 108,
     "metadata": {},
     "output_type": "execute_result"
    },
    {
     "data": {
      "image/png": "[encoded data removed]",
      "text/plain": [
       "<Figure size 432x288 with 1 Axes>"
      ]
     },
     "metadata": {
      "needs_background": "light"
     },
     "output_type": "display_data"
    }
   ],
   "source": [
    "plt.scatter(data_geo['O65percchange'], data_geo['homepercchange'])"
   ]
  },
  {
   "cell_type": "code",
   "execution_count": 109,
   "id": "b18d265d",
   "metadata": {},
   "outputs": [
    {
     "data": {
      "text/plain": [
       "KMeans(n_clusters=3)"
      ]
     },
     "execution_count": 109,
     "metadata": {},
     "output_type": "execute_result"
    }
   ],
   "source": [
    "km = KMeans(n_clusters=3)\n",
    "km"
   ]
  },
  {
   "cell_type": "code",
   "execution_count": 112,
   "id": "ddb1e55b",
   "metadata": {},
   "outputs": [
    {
     "data": {
      "text/plain": [
       "array([0, 0, 0, 0, 0, 0, 0, 0, 0, 2, 0, 0, 0, 0, 0, 0, 0, 0, 0, 0, 0, 0,\n",
       "       0, 0, 0, 0, 0, 0, 0, 0, 2, 0, 0, 0, 0, 0, 0, 2, 0, 0, 2, 0, 0, 0,\n",
       "       0, 0, 0, 0, 2, 0, 0, 2, 1, 0, 2, 0, 0, 0, 1, 2, 2, 0, 0, 2, 0, 0,\n",
       "       0, 0, 2, 0, 0, 0, 0, 2, 0, 0, 0, 0, 0, 0, 0, 0, 2, 0, 0, 2, 2, 0,\n",
       "       0, 0, 0, 0, 0, 0, 0, 0, 0, 0, 0, 0, 0, 0, 0, 0, 0, 2, 0, 0, 0, 2,\n",
       "       0, 2, 0, 0, 2, 0, 0, 0, 0, 0, 0, 1, 0, 0, 0, 2, 0, 0, 0, 0, 0, 2,\n",
       "       0, 0, 0, 2, 0, 0, 0, 2, 2, 0, 0, 2, 1, 0, 0, 0, 0, 2, 0, 0, 0, 0,\n",
       "       2, 0, 0, 0, 0, 0, 0, 0, 0, 0, 0, 0, 0, 2, 0, 1, 0, 0, 2, 2, 0, 0,\n",
       "       0, 0, 0, 0, 0, 0, 0, 2, 0, 2, 0, 0, 0, 0, 0, 0, 0, 1, 0, 0, 2, 0,\n",
       "       0, 0, 0, 0, 0, 0, 2, 0, 0, 0, 0, 0, 0, 0, 0, 0, 0, 0, 0, 2, 2, 0,\n",
       "       0, 0, 0, 0, 0, 0, 0, 0, 0, 0, 0, 0, 0, 0, 0, 0, 2, 0, 0, 2, 2, 0,\n",
       "       2, 0, 0, 0, 0, 0, 0, 0, 0, 0, 2, 2, 0, 0, 2, 0, 2, 0, 0, 0, 0, 0,\n",
       "       0, 0, 0, 0, 0, 0, 0, 0, 0, 0, 0, 0, 0, 0, 0, 0, 0, 0, 0, 0, 0, 0,\n",
       "       0, 2, 0, 2, 0, 0, 0, 0, 0, 2, 0, 0, 2, 0, 0, 0, 0, 0, 0, 0, 0, 0,\n",
       "       0, 0, 0, 2, 0, 0, 0, 0, 2, 0, 0, 2, 0, 0, 0, 2, 0, 0, 1, 0, 0, 0,\n",
       "       0, 0, 0, 0, 0, 0, 0, 0, 0, 0, 1, 0, 2, 0, 0, 0, 0, 0, 0, 0, 1, 2,\n",
       "       0, 0, 0, 0, 0, 0, 2, 0, 0, 0, 0, 2, 0, 0, 0, 2, 0, 0, 0, 0, 0, 2,\n",
       "       0, 0, 0, 0, 0, 0, 0, 2, 0, 0, 0, 0, 0, 0, 1, 2, 0, 0, 0, 2, 0, 0,\n",
       "       0, 0, 0, 0, 0, 0, 0, 0, 0, 0, 1, 0, 2, 0, 0, 2, 2, 0, 0, 0, 2, 0,\n",
       "       0, 1, 0, 0, 0, 0, 0, 0, 0, 0, 0, 0, 0, 0, 0, 0, 2, 0, 2, 2, 0, 0,\n",
       "       0, 0, 0, 0, 0, 1, 0, 0, 0, 0, 0, 0, 0, 0, 2, 0, 0, 0, 0, 0, 0, 0,\n",
       "       0, 0, 0, 0, 0, 2, 0, 0, 0, 2, 0, 1, 0, 0, 0, 0, 0, 0, 0, 2, 0, 0,\n",
       "       0, 0, 0, 0, 0, 0, 0, 0, 0, 0, 0, 0, 0, 0, 0, 0, 0, 0, 0, 0, 0, 0,\n",
       "       0, 0, 0, 0, 0, 0, 0, 0, 2, 0, 0, 1, 0, 0, 0, 0, 0, 0, 2, 0, 0, 2,\n",
       "       2, 2, 0, 0, 0, 1, 0, 0, 0, 2, 0, 0, 0, 0, 2, 0, 0, 0, 0, 0, 0, 0,\n",
       "       0, 0, 0, 2, 0, 0, 0, 0, 0, 0, 0, 1, 2, 0, 2, 0, 0, 0, 0, 0, 0, 0,\n",
       "       0, 0, 0, 2, 0, 0, 0, 2, 0, 0, 0, 0, 2, 0, 0, 2, 2, 0, 0, 0, 0, 0,\n",
       "       0, 0, 0, 0, 0, 2, 0, 0, 0, 0, 0, 0, 0, 2, 1, 0, 0, 2, 0, 0, 2, 0,\n",
       "       0, 0, 0, 0, 0, 0, 0, 0, 0, 0, 0, 0, 0, 0, 0, 0, 0, 0, 0, 0, 0, 0,\n",
       "       0, 0, 0, 0, 0, 0, 0, 0, 0, 0, 1, 0, 2, 0, 0, 0, 2, 0, 2, 0, 2, 2,\n",
       "       0, 0, 0, 0, 0, 2, 2, 0, 1, 2, 0, 0, 0, 1, 0, 0, 0, 0, 2, 0, 0, 0,\n",
       "       0, 0, 0, 0, 0, 0, 0, 2, 0, 0, 0, 0, 2, 0, 0, 0, 0, 2, 0, 1, 0, 2,\n",
       "       2, 2, 2, 0, 0, 0, 1, 1, 0, 0, 0, 0, 0, 0, 0, 0, 1, 2, 0, 0, 0, 0,\n",
       "       0, 0, 1, 0, 0, 0, 0, 0, 2, 0, 2, 0, 0, 0, 0, 0, 0, 0, 0, 2, 0, 0,\n",
       "       0, 0, 0, 0, 2, 0, 0, 2, 0, 0, 0, 0, 0, 2, 0, 1, 2, 2, 0, 0, 0, 0,\n",
       "       0, 0, 0, 0, 0, 0, 0, 0, 0, 0, 0, 2, 0, 0, 0, 0, 2, 2, 0, 0, 0, 0,\n",
       "       0, 0, 0, 0, 2, 0, 2, 0, 0, 0, 0, 0, 0, 2, 0, 1, 0, 0, 0, 0, 0, 0,\n",
       "       0, 2, 0, 0, 0, 0, 2, 0, 0, 0, 0, 2, 0, 0, 0, 0, 0, 0, 0, 2, 0, 0,\n",
       "       0, 0, 0, 0, 0, 0, 0, 2, 0, 0, 0, 0, 0, 2, 0, 2, 0, 0, 0, 0, 0, 0,\n",
       "       0])"
      ]
     },
     "execution_count": 112,
     "metadata": {},
     "output_type": "execute_result"
    }
   ],
   "source": [
    "Area_predicted = km.fit_predict(data_geo[['O65sharechange','homerealchange']])\n",
    "Area_predicted"
   ]
  },
  {
   "cell_type": "code",
   "execution_count": 113,
   "id": "18138adb",
   "metadata": {},
   "outputs": [
    {
     "data": {
      "text/html": [
       "<div>\n",
       "<style scoped>\n",
       "    .dataframe tbody tr th:only-of-type {\n",
       "        vertical-align: middle;\n",
       "    }\n",
       "\n",
       "    .dataframe tbody tr th {\n",
       "        vertical-align: top;\n",
       "    }\n",
       "\n",
       "    .dataframe thead th {\n",
       "        text-align: right;\n",
       "    }\n",
       "</style>\n",
       "<table border=\"1\" class=\"dataframe\">\n",
       "  <thead>\n",
       "    <tr style=\"text-align: right;\">\n",
       "      <th></th>\n",
       "      <th>GEOID</th>\n",
       "      <th>Micro_Metro</th>\n",
       "      <th>ALAND</th>\n",
       "      <th>AWATER</th>\n",
       "      <th>geometry</th>\n",
       "      <th>CBSA</th>\n",
       "      <th>total</th>\n",
       "      <th>child</th>\n",
       "      <th>taxbase</th>\n",
       "      <th>O65</th>\n",
       "      <th>...</th>\n",
       "      <th>homerealchange</th>\n",
       "      <th>popdensity14</th>\n",
       "      <th>popdensity19</th>\n",
       "      <th>elderlypopdensity14</th>\n",
       "      <th>elderlypopdensity19</th>\n",
       "      <th>tbdensity14</th>\n",
       "      <th>tbdensity19</th>\n",
       "      <th>childdensity14</th>\n",
       "      <th>childdensity19</th>\n",
       "      <th>cluster</th>\n",
       "    </tr>\n",
       "  </thead>\n",
       "  <tbody>\n",
       "    <tr>\n",
       "      <th>0</th>\n",
       "      <td>12020</td>\n",
       "      <td>M1</td>\n",
       "      <td>1024.941767</td>\n",
       "      <td>10.092773</td>\n",
       "      <td>POLYGON ((-83.53739 33.96591, -83.53184 33.968...</td>\n",
       "      <td>Athens-Clarke County, GA Metro Area</td>\n",
       "      <td>208457</td>\n",
       "      <td>42122</td>\n",
       "      <td>139587</td>\n",
       "      <td>26748</td>\n",
       "      <td>...</td>\n",
       "      <td>20100</td>\n",
       "      <td>191.510392</td>\n",
       "      <td>191.510392</td>\n",
       "      <td>20.941678</td>\n",
       "      <td>26.097092</td>\n",
       "      <td>131.507959</td>\n",
       "      <td>136.190176</td>\n",
       "      <td>39.060756</td>\n",
       "      <td>41.096969</td>\n",
       "      <td>0</td>\n",
       "    </tr>\n",
       "    <tr>\n",
       "      <th>1</th>\n",
       "      <td>12100</td>\n",
       "      <td>M1</td>\n",
       "      <td>555.511664</td>\n",
       "      <td>116.319844</td>\n",
       "      <td>POLYGON ((-74.85675 39.42076, -74.85670 39.420...</td>\n",
       "      <td>Atlantic City-Hammonton, NJ Metro Area</td>\n",
       "      <td>266105</td>\n",
       "      <td>57085</td>\n",
       "      <td>162363</td>\n",
       "      <td>46657</td>\n",
       "      <td>...</td>\n",
       "      <td>-12300</td>\n",
       "      <td>495.624157</td>\n",
       "      <td>495.624157</td>\n",
       "      <td>74.088453</td>\n",
       "      <td>83.989236</td>\n",
       "      <td>309.352640</td>\n",
       "      <td>292.276491</td>\n",
       "      <td>112.183063</td>\n",
       "      <td>102.761119</td>\n",
       "      <td>0</td>\n",
       "    </tr>\n",
       "    <tr>\n",
       "      <th>2</th>\n",
       "      <td>12140</td>\n",
       "      <td>M2</td>\n",
       "      <td>362.830511</td>\n",
       "      <td>1.026029</td>\n",
       "      <td>POLYGON ((-85.19295 41.38001, -85.19296 41.381...</td>\n",
       "      <td>Auburn, IN Micro Area</td>\n",
       "      <td>42927</td>\n",
       "      <td>10472</td>\n",
       "      <td>25677</td>\n",
       "      <td>6778</td>\n",
       "      <td>...</td>\n",
       "      <td>15900</td>\n",
       "      <td>116.641238</td>\n",
       "      <td>116.641238</td>\n",
       "      <td>16.280329</td>\n",
       "      <td>18.680899</td>\n",
       "      <td>70.650067</td>\n",
       "      <td>70.768580</td>\n",
       "      <td>29.710842</td>\n",
       "      <td>28.861961</td>\n",
       "      <td>0</td>\n",
       "    </tr>\n",
       "    <tr>\n",
       "      <th>3</th>\n",
       "      <td>12180</td>\n",
       "      <td>M2</td>\n",
       "      <td>691.578656</td>\n",
       "      <td>172.087923</td>\n",
       "      <td>POLYGON ((-76.73797 42.96129, -76.73771 42.961...</td>\n",
       "      <td>Auburn, NY Micro Area</td>\n",
       "      <td>77425</td>\n",
       "      <td>15394</td>\n",
       "      <td>47819</td>\n",
       "      <td>14212</td>\n",
       "      <td>...</td>\n",
       "      <td>19000</td>\n",
       "      <td>114.926913</td>\n",
       "      <td>114.926913</td>\n",
       "      <td>18.574894</td>\n",
       "      <td>20.550085</td>\n",
       "      <td>72.259315</td>\n",
       "      <td>69.144702</td>\n",
       "      <td>24.092704</td>\n",
       "      <td>22.259218</td>\n",
       "      <td>0</td>\n",
       "    </tr>\n",
       "    <tr>\n",
       "      <th>4</th>\n",
       "      <td>12220</td>\n",
       "      <td>M1</td>\n",
       "      <td>607.534052</td>\n",
       "      <td>8.311367</td>\n",
       "      <td>POLYGON ((-85.29322 32.73073, -85.28826 32.730...</td>\n",
       "      <td>Auburn-Opelika, AL Metro Area</td>\n",
       "      <td>161152</td>\n",
       "      <td>34388</td>\n",
       "      <td>108068</td>\n",
       "      <td>18696</td>\n",
       "      <td>...</td>\n",
       "      <td>19200</td>\n",
       "      <td>243.262085</td>\n",
       "      <td>243.262085</td>\n",
       "      <td>23.478519</td>\n",
       "      <td>30.773584</td>\n",
       "      <td>166.321541</td>\n",
       "      <td>177.879741</td>\n",
       "      <td>53.462024</td>\n",
       "      <td>56.602589</td>\n",
       "      <td>0</td>\n",
       "    </tr>\n",
       "  </tbody>\n",
       "</table>\n",
       "<p>5 rows × 46 columns</p>\n",
       "</div>"
      ],
      "text/plain": [
       "   GEOID Micro_Metro        ALAND      AWATER  \\\n",
       "0  12020          M1  1024.941767   10.092773   \n",
       "1  12100          M1   555.511664  116.319844   \n",
       "2  12140          M2   362.830511    1.026029   \n",
       "3  12180          M2   691.578656  172.087923   \n",
       "4  12220          M1   607.534052    8.311367   \n",
       "\n",
       "                                            geometry  \\\n",
       "0  POLYGON ((-83.53739 33.96591, -83.53184 33.968...   \n",
       "1  POLYGON ((-74.85675 39.42076, -74.85670 39.420...   \n",
       "2  POLYGON ((-85.19295 41.38001, -85.19296 41.381...   \n",
       "3  POLYGON ((-76.73797 42.96129, -76.73771 42.961...   \n",
       "4  POLYGON ((-85.29322 32.73073, -85.28826 32.730...   \n",
       "\n",
       "                                     CBSA   total  child  taxbase    O65  ...  \\\n",
       "0     Athens-Clarke County, GA Metro Area  208457  42122   139587  26748  ...   \n",
       "1  Atlantic City-Hammonton, NJ Metro Area  266105  57085   162363  46657  ...   \n",
       "2                   Auburn, IN Micro Area   42927  10472    25677   6778  ...   \n",
       "3                   Auburn, NY Micro Area   77425  15394    47819  14212  ...   \n",
       "4           Auburn-Opelika, AL Metro Area  161152  34388   108068  18696  ...   \n",
       "\n",
       "   homerealchange  popdensity14  popdensity19  elderlypopdensity14  \\\n",
       "0           20100    191.510392    191.510392            20.941678   \n",
       "1          -12300    495.624157    495.624157            74.088453   \n",
       "2           15900    116.641238    116.641238            16.280329   \n",
       "3           19000    114.926913    114.926913            18.574894   \n",
       "4           19200    243.262085    243.262085            23.478519   \n",
       "\n",
       "   elderlypopdensity19  tbdensity14  tbdensity19  childdensity14  \\\n",
       "0            26.097092   131.507959   136.190176       39.060756   \n",
       "1            83.989236   309.352640   292.276491      112.183063   \n",
       "2            18.680899    70.650067    70.768580       29.710842   \n",
       "3            20.550085    72.259315    69.144702       24.092704   \n",
       "4            30.773584   166.321541   177.879741       53.462024   \n",
       "\n",
       "   childdensity19  cluster  \n",
       "0       41.096969        0  \n",
       "1      102.761119        0  \n",
       "2       28.861961        0  \n",
       "3       22.259218        0  \n",
       "4       56.602589        0  \n",
       "\n",
       "[5 rows x 46 columns]"
      ]
     },
     "execution_count": 113,
     "metadata": {},
     "output_type": "execute_result"
    }
   ],
   "source": [
    "data_geo['cluster']= Area_predicted\n",
    "data_geo.head()"
   ]
  },
  {
   "cell_type": "code",
   "execution_count": 116,
   "id": "145e9e20",
   "metadata": {},
   "outputs": [
    {
     "data": {
      "text/plain": [
       "<matplotlib.legend.Legend at 0x2225a4fa5b0>"
      ]
     },
     "execution_count": 116,
     "metadata": {},
     "output_type": "execute_result"
    },
    {
     "data": {
      "image/png": "[encoded data removed]",
      "text/plain": [
       "<Figure size 432x288 with 1 Axes>"
      ]
     },
     "metadata": {
      "needs_background": "light"
     },
     "output_type": "display_data"
    }
   ],
   "source": [
    "df1= data_geo[data_geo.cluster==0]\n",
    "df2= data_geo[data_geo.cluster==1]\n",
    "df3= data_geo[data_geo.cluster==2]\n",
    "\n",
    "plt.scatter(df1['O65sharechange'],df1['homerealchange'], color='green')\n",
    "plt.scatter(df2['O65sharechange'],df2['homerealchange'], color= 'red')\n",
    "plt.scatter(df3['O65sharechange'],df3['homerealchange'], color= 'black')\n",
    "\n",
    "plt.scatter(km.cluster_centers_[:,0],km.cluster_centers_[:,1],color='purple',marker='*',label='centroid')\n",
    "\n",
    "plt.xlabel('PerchangePop')\n",
    "plt.ylabel('ALAND')\n",
    "plt.legend()"
   ]
  },
  {
   "cell_type": "markdown",
   "id": "befbf55e",
   "metadata": {},
   "source": [
    "Try clustering based on 3 variables."
   ]
  },
  {
   "cell_type": "code",
   "execution_count": 119,
   "id": "35cf5265",
   "metadata": {},
   "outputs": [
    {
     "data": {
      "text/plain": [
       "array([0, 0, 0, 0, 0, 0, 0, 0, 0, 1, 0, 0, 0, 0, 0, 0, 0, 0, 0, 0, 0, 0,\n",
       "       0, 0, 0, 0, 0, 0, 0, 0, 1, 0, 0, 0, 0, 0, 0, 1, 0, 0, 1, 0, 0, 0,\n",
       "       0, 0, 0, 0, 1, 0, 0, 1, 2, 0, 1, 0, 0, 0, 2, 1, 1, 0, 0, 1, 0, 0,\n",
       "       0, 0, 1, 0, 0, 0, 0, 1, 0, 0, 0, 0, 0, 0, 0, 0, 1, 0, 0, 1, 1, 0,\n",
       "       0, 0, 0, 0, 0, 0, 0, 0, 0, 0, 0, 0, 0, 0, 0, 0, 0, 1, 0, 0, 0, 1,\n",
       "       0, 1, 0, 0, 1, 0, 0, 0, 0, 0, 0, 2, 0, 0, 0, 1, 0, 0, 0, 0, 0, 1,\n",
       "       0, 0, 0, 1, 0, 0, 0, 1, 1, 0, 0, 1, 2, 0, 0, 0, 0, 1, 0, 0, 0, 0,\n",
       "       1, 0, 0, 0, 0, 0, 0, 0, 0, 0, 0, 0, 0, 1, 0, 2, 0, 0, 1, 1, 0, 0,\n",
       "       0, 0, 0, 0, 0, 0, 0, 1, 0, 1, 0, 0, 0, 0, 0, 0, 0, 2, 0, 0, 1, 0,\n",
       "       0, 0, 0, 0, 0, 0, 1, 0, 0, 0, 0, 0, 0, 0, 0, 0, 0, 0, 0, 1, 1, 0,\n",
       "       0, 0, 0, 0, 0, 0, 0, 0, 0, 0, 0, 0, 0, 0, 0, 0, 1, 0, 0, 1, 1, 0,\n",
       "       1, 0, 0, 0, 0, 0, 0, 0, 0, 0, 1, 1, 0, 0, 1, 0, 1, 0, 0, 0, 0, 0,\n",
       "       0, 0, 0, 0, 0, 0, 0, 0, 0, 0, 0, 0, 0, 0, 0, 0, 0, 0, 0, 0, 0, 0,\n",
       "       0, 1, 0, 1, 0, 0, 0, 0, 0, 1, 0, 0, 1, 0, 0, 0, 0, 0, 0, 0, 0, 0,\n",
       "       0, 0, 0, 1, 0, 0, 0, 0, 1, 0, 0, 1, 0, 0, 0, 1, 0, 0, 2, 0, 0, 0,\n",
       "       0, 0, 0, 0, 0, 0, 0, 0, 0, 0, 2, 0, 1, 0, 0, 0, 0, 0, 0, 0, 2, 1,\n",
       "       0, 0, 0, 0, 0, 0, 1, 0, 0, 0, 0, 1, 0, 0, 0, 1, 0, 0, 0, 0, 0, 1,\n",
       "       0, 0, 0, 0, 0, 0, 0, 1, 0, 0, 0, 0, 0, 0, 2, 1, 0, 0, 0, 1, 0, 0,\n",
       "       0, 0, 0, 0, 0, 0, 0, 0, 0, 0, 2, 0, 1, 0, 0, 1, 1, 0, 0, 0, 1, 0,\n",
       "       0, 2, 0, 0, 0, 0, 0, 0, 0, 0, 0, 0, 0, 0, 0, 0, 1, 0, 1, 1, 0, 0,\n",
       "       0, 0, 0, 0, 0, 2, 0, 0, 0, 0, 0, 0, 0, 0, 1, 0, 0, 0, 0, 0, 0, 0,\n",
       "       0, 0, 0, 0, 0, 1, 0, 0, 0, 1, 0, 2, 0, 0, 0, 0, 0, 0, 0, 1, 0, 0,\n",
       "       0, 0, 0, 0, 0, 0, 0, 0, 0, 0, 0, 0, 0, 0, 0, 0, 0, 0, 0, 0, 0, 0,\n",
       "       0, 0, 0, 0, 0, 0, 0, 0, 1, 0, 0, 2, 0, 0, 0, 0, 0, 0, 1, 0, 0, 1,\n",
       "       1, 1, 0, 0, 0, 2, 0, 0, 0, 1, 0, 0, 0, 0, 1, 0, 0, 0, 0, 0, 0, 0,\n",
       "       0, 0, 0, 1, 0, 0, 0, 0, 0, 0, 0, 2, 1, 0, 1, 0, 0, 0, 0, 0, 0, 0,\n",
       "       0, 0, 0, 1, 0, 0, 0, 1, 0, 0, 0, 0, 1, 0, 0, 1, 1, 0, 0, 0, 0, 0,\n",
       "       0, 0, 0, 0, 0, 1, 0, 0, 0, 0, 0, 0, 0, 1, 2, 0, 0, 1, 0, 0, 1, 0,\n",
       "       0, 0, 0, 0, 0, 0, 0, 0, 0, 0, 0, 0, 0, 0, 0, 0, 0, 0, 0, 0, 0, 0,\n",
       "       0, 0, 0, 0, 0, 0, 0, 0, 0, 0, 2, 0, 1, 0, 0, 0, 1, 0, 1, 0, 1, 1,\n",
       "       0, 0, 0, 0, 0, 1, 1, 0, 2, 1, 0, 0, 0, 2, 0, 0, 0, 0, 1, 0, 0, 0,\n",
       "       0, 0, 0, 0, 0, 0, 0, 1, 0, 0, 0, 0, 1, 0, 0, 0, 0, 1, 0, 2, 0, 1,\n",
       "       1, 1, 1, 0, 0, 0, 2, 2, 0, 0, 0, 0, 0, 0, 0, 0, 2, 1, 0, 0, 0, 0,\n",
       "       0, 0, 2, 0, 0, 0, 0, 0, 1, 0, 1, 0, 0, 0, 0, 0, 0, 0, 0, 1, 0, 0,\n",
       "       0, 0, 0, 0, 1, 0, 0, 1, 0, 0, 0, 0, 0, 1, 0, 2, 1, 1, 0, 0, 0, 0,\n",
       "       0, 0, 0, 0, 0, 0, 0, 0, 0, 0, 0, 1, 0, 0, 0, 0, 1, 1, 0, 0, 0, 0,\n",
       "       0, 0, 0, 0, 1, 0, 1, 0, 0, 0, 0, 0, 0, 1, 0, 2, 0, 0, 0, 0, 0, 0,\n",
       "       0, 1, 0, 0, 0, 0, 1, 0, 0, 0, 0, 1, 0, 0, 0, 0, 0, 0, 0, 1, 0, 0,\n",
       "       0, 0, 0, 0, 0, 0, 0, 1, 0, 0, 0, 0, 0, 1, 0, 1, 0, 0, 0, 0, 0, 0,\n",
       "       0])"
      ]
     },
     "execution_count": 119,
     "metadata": {},
     "output_type": "execute_result"
    }
   ],
   "source": [
    "#create cluster based on 3 variables\n",
    "area_predicted = km.fit_predict(data_geo[['O65sharechange','totalpercchange','homerealchange']])\n",
    "area_predicted"
   ]
  },
  {
   "cell_type": "code",
   "execution_count": 122,
   "id": "4674b921",
   "metadata": {},
   "outputs": [
    {
     "data": {
      "text/html": [
       "<div>\n",
       "<style scoped>\n",
       "    .dataframe tbody tr th:only-of-type {\n",
       "        vertical-align: middle;\n",
       "    }\n",
       "\n",
       "    .dataframe tbody tr th {\n",
       "        vertical-align: top;\n",
       "    }\n",
       "\n",
       "    .dataframe thead th {\n",
       "        text-align: right;\n",
       "    }\n",
       "</style>\n",
       "<table border=\"1\" class=\"dataframe\">\n",
       "  <thead>\n",
       "    <tr style=\"text-align: right;\">\n",
       "      <th></th>\n",
       "      <th>GEOID</th>\n",
       "      <th>Micro_Metro</th>\n",
       "      <th>ALAND</th>\n",
       "      <th>AWATER</th>\n",
       "      <th>geometry</th>\n",
       "      <th>CBSA</th>\n",
       "      <th>total</th>\n",
       "      <th>child</th>\n",
       "      <th>taxbase</th>\n",
       "      <th>O65</th>\n",
       "      <th>...</th>\n",
       "      <th>homerealchange</th>\n",
       "      <th>popdensity14</th>\n",
       "      <th>popdensity19</th>\n",
       "      <th>elderlypopdensity14</th>\n",
       "      <th>elderlypopdensity19</th>\n",
       "      <th>tbdensity14</th>\n",
       "      <th>tbdensity19</th>\n",
       "      <th>childdensity14</th>\n",
       "      <th>childdensity19</th>\n",
       "      <th>cluster</th>\n",
       "    </tr>\n",
       "  </thead>\n",
       "  <tbody>\n",
       "    <tr>\n",
       "      <th>0</th>\n",
       "      <td>12020</td>\n",
       "      <td>M1</td>\n",
       "      <td>1024.941767</td>\n",
       "      <td>10.092773</td>\n",
       "      <td>POLYGON ((-83.53739 33.96591, -83.53184 33.968...</td>\n",
       "      <td>Athens-Clarke County, GA Metro Area</td>\n",
       "      <td>208457</td>\n",
       "      <td>42122</td>\n",
       "      <td>139587</td>\n",
       "      <td>26748</td>\n",
       "      <td>...</td>\n",
       "      <td>20100</td>\n",
       "      <td>191.510392</td>\n",
       "      <td>191.510392</td>\n",
       "      <td>20.941678</td>\n",
       "      <td>26.097092</td>\n",
       "      <td>131.507959</td>\n",
       "      <td>136.190176</td>\n",
       "      <td>39.060756</td>\n",
       "      <td>41.096969</td>\n",
       "      <td>0</td>\n",
       "    </tr>\n",
       "    <tr>\n",
       "      <th>1</th>\n",
       "      <td>12100</td>\n",
       "      <td>M1</td>\n",
       "      <td>555.511664</td>\n",
       "      <td>116.319844</td>\n",
       "      <td>POLYGON ((-74.85675 39.42076, -74.85670 39.420...</td>\n",
       "      <td>Atlantic City-Hammonton, NJ Metro Area</td>\n",
       "      <td>266105</td>\n",
       "      <td>57085</td>\n",
       "      <td>162363</td>\n",
       "      <td>46657</td>\n",
       "      <td>...</td>\n",
       "      <td>-12300</td>\n",
       "      <td>495.624157</td>\n",
       "      <td>495.624157</td>\n",
       "      <td>74.088453</td>\n",
       "      <td>83.989236</td>\n",
       "      <td>309.352640</td>\n",
       "      <td>292.276491</td>\n",
       "      <td>112.183063</td>\n",
       "      <td>102.761119</td>\n",
       "      <td>0</td>\n",
       "    </tr>\n",
       "    <tr>\n",
       "      <th>2</th>\n",
       "      <td>12140</td>\n",
       "      <td>M2</td>\n",
       "      <td>362.830511</td>\n",
       "      <td>1.026029</td>\n",
       "      <td>POLYGON ((-85.19295 41.38001, -85.19296 41.381...</td>\n",
       "      <td>Auburn, IN Micro Area</td>\n",
       "      <td>42927</td>\n",
       "      <td>10472</td>\n",
       "      <td>25677</td>\n",
       "      <td>6778</td>\n",
       "      <td>...</td>\n",
       "      <td>15900</td>\n",
       "      <td>116.641238</td>\n",
       "      <td>116.641238</td>\n",
       "      <td>16.280329</td>\n",
       "      <td>18.680899</td>\n",
       "      <td>70.650067</td>\n",
       "      <td>70.768580</td>\n",
       "      <td>29.710842</td>\n",
       "      <td>28.861961</td>\n",
       "      <td>0</td>\n",
       "    </tr>\n",
       "    <tr>\n",
       "      <th>3</th>\n",
       "      <td>12180</td>\n",
       "      <td>M2</td>\n",
       "      <td>691.578656</td>\n",
       "      <td>172.087923</td>\n",
       "      <td>POLYGON ((-76.73797 42.96129, -76.73771 42.961...</td>\n",
       "      <td>Auburn, NY Micro Area</td>\n",
       "      <td>77425</td>\n",
       "      <td>15394</td>\n",
       "      <td>47819</td>\n",
       "      <td>14212</td>\n",
       "      <td>...</td>\n",
       "      <td>19000</td>\n",
       "      <td>114.926913</td>\n",
       "      <td>114.926913</td>\n",
       "      <td>18.574894</td>\n",
       "      <td>20.550085</td>\n",
       "      <td>72.259315</td>\n",
       "      <td>69.144702</td>\n",
       "      <td>24.092704</td>\n",
       "      <td>22.259218</td>\n",
       "      <td>0</td>\n",
       "    </tr>\n",
       "    <tr>\n",
       "      <th>4</th>\n",
       "      <td>12220</td>\n",
       "      <td>M1</td>\n",
       "      <td>607.534052</td>\n",
       "      <td>8.311367</td>\n",
       "      <td>POLYGON ((-85.29322 32.73073, -85.28826 32.730...</td>\n",
       "      <td>Auburn-Opelika, AL Metro Area</td>\n",
       "      <td>161152</td>\n",
       "      <td>34388</td>\n",
       "      <td>108068</td>\n",
       "      <td>18696</td>\n",
       "      <td>...</td>\n",
       "      <td>19200</td>\n",
       "      <td>243.262085</td>\n",
       "      <td>243.262085</td>\n",
       "      <td>23.478519</td>\n",
       "      <td>30.773584</td>\n",
       "      <td>166.321541</td>\n",
       "      <td>177.879741</td>\n",
       "      <td>53.462024</td>\n",
       "      <td>56.602589</td>\n",
       "      <td>0</td>\n",
       "    </tr>\n",
       "  </tbody>\n",
       "</table>\n",
       "<p>5 rows × 46 columns</p>\n",
       "</div>"
      ],
      "text/plain": [
       "   GEOID Micro_Metro        ALAND      AWATER  \\\n",
       "0  12020          M1  1024.941767   10.092773   \n",
       "1  12100          M1   555.511664  116.319844   \n",
       "2  12140          M2   362.830511    1.026029   \n",
       "3  12180          M2   691.578656  172.087923   \n",
       "4  12220          M1   607.534052    8.311367   \n",
       "\n",
       "                                            geometry  \\\n",
       "0  POLYGON ((-83.53739 33.96591, -83.53184 33.968...   \n",
       "1  POLYGON ((-74.85675 39.42076, -74.85670 39.420...   \n",
       "2  POLYGON ((-85.19295 41.38001, -85.19296 41.381...   \n",
       "3  POLYGON ((-76.73797 42.96129, -76.73771 42.961...   \n",
       "4  POLYGON ((-85.29322 32.73073, -85.28826 32.730...   \n",
       "\n",
       "                                     CBSA   total  child  taxbase    O65  ...  \\\n",
       "0     Athens-Clarke County, GA Metro Area  208457  42122   139587  26748  ...   \n",
       "1  Atlantic City-Hammonton, NJ Metro Area  266105  57085   162363  46657  ...   \n",
       "2                   Auburn, IN Micro Area   42927  10472    25677   6778  ...   \n",
       "3                   Auburn, NY Micro Area   77425  15394    47819  14212  ...   \n",
       "4           Auburn-Opelika, AL Metro Area  161152  34388   108068  18696  ...   \n",
       "\n",
       "   homerealchange  popdensity14  popdensity19  elderlypopdensity14  \\\n",
       "0           20100    191.510392    191.510392            20.941678   \n",
       "1          -12300    495.624157    495.624157            74.088453   \n",
       "2           15900    116.641238    116.641238            16.280329   \n",
       "3           19000    114.926913    114.926913            18.574894   \n",
       "4           19200    243.262085    243.262085            23.478519   \n",
       "\n",
       "   elderlypopdensity19  tbdensity14  tbdensity19  childdensity14  \\\n",
       "0            26.097092   131.507959   136.190176       39.060756   \n",
       "1            83.989236   309.352640   292.276491      112.183063   \n",
       "2            18.680899    70.650067    70.768580       29.710842   \n",
       "3            20.550085    72.259315    69.144702       24.092704   \n",
       "4            30.773584   166.321541   177.879741       53.462024   \n",
       "\n",
       "   childdensity19  cluster  \n",
       "0       41.096969        0  \n",
       "1      102.761119        0  \n",
       "2       28.861961        0  \n",
       "3       22.259218        0  \n",
       "4       56.602589        0  \n",
       "\n",
       "[5 rows x 46 columns]"
      ]
     },
     "execution_count": 122,
     "metadata": {},
     "output_type": "execute_result"
    }
   ],
   "source": [
    "data_geo['cluster']= area_predicted\n",
    "data_geo.head()"
   ]
  },
  {
   "cell_type": "code",
   "execution_count": 123,
   "id": "97b26e3d",
   "metadata": {},
   "outputs": [
    {
     "name": "stderr",
     "output_type": "stream",
     "text": [
      "C:\\Users\\jmccall\\Anaconda3\\envs\\geospatial\\lib\\site-packages\\matplotlib\\collections.py:922: RuntimeWarning: invalid value encountered in sqrt\n",
      "  scale = np.sqrt(self._sizes) * dpi / 72.0 * self._factor\n"
     ]
    },
    {
     "data": {
      "text/plain": [
       "<matplotlib.legend.Legend at 0x2225a579430>"
      ]
     },
     "execution_count": 123,
     "metadata": {},
     "output_type": "execute_result"
    },
    {
     "data": {
      "image/png": "[encoded data removed]",
      "text/plain": [
       "<Figure size 432x288 with 1 Axes>"
      ]
     },
     "metadata": {
      "needs_background": "light"
     },
     "output_type": "display_data"
    }
   ],
   "source": [
    "df1= data_geo[data_geo.cluster==0]\n",
    "df2= data_geo[data_geo.cluster==1]\n",
    "df3= data_geo[data_geo.cluster==2]\n",
    "\n",
    "plt.scatter(df1['O65sharechange'],df1['homerealchange'],df1['totalpercchange'], color='green')\n",
    "plt.scatter(df2['O65sharechange'],df2['homerealchange'],df2['totalpercchange'], color= 'red')\n",
    "plt.scatter(df3['O65sharechange'],df3['homerealchange'],df3['totalpercchange'], color= 'black')\n",
    "\n",
    "plt.scatter(km.cluster_centers_[:,0],km.cluster_centers_[:,1],color='purple',marker='*',label='centroid')\n",
    "\n",
    "plt.xlabel('PerchangePop')\n",
    "plt.ylabel('ALAND')\n",
    "plt.legend()"
   ]
  },
  {
   "cell_type": "code",
   "execution_count": null,
   "id": "1053c8ea",
   "metadata": {},
   "outputs": [],
   "source": []
  }
 ],
 "metadata": {
  "kernelspec": {
   "display_name": "Python 3 (ipykernel)",
   "language": "python",
   "name": "python3"
  },
  "language_info": {
   "codemirror_mode": {
    "name": "ipython",
    "version": 3
   },
   "file_extension": ".py",
   "mimetype": "text/x-python",
   "name": "python",
   "nbconvert_exporter": "python",
   "pygments_lexer": "ipython3",
   "version": "3.8.5"
  }
 },
 "nbformat": 4,
 "nbformat_minor": 5
}
