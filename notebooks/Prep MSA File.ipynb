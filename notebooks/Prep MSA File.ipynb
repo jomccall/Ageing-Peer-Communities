{
 "cells": [
  {
   "cell_type": "markdown",
   "id": "4b38ee6e",
   "metadata": {},
   "source": [
    "###### Imports"
   ]
  },
  {
   "cell_type": "code",
   "execution_count": 1,
   "id": "0ceab370",
   "metadata": {},
   "outputs": [
    {
     "name": "stderr",
     "output_type": "stream",
     "text": [
      "C:\\Users\\jmccall\\Anaconda3\\envs\\geospatial\\lib\\site-packages\\pysal\\explore\\segregation\\network\\network.py:15: UserWarning: You need pandana and urbanaccess to work with segregation's network module\n",
      "You can install them with  `pip install urbanaccess pandana` or `conda install -c udst pandana urbanaccess`\n",
      "  warn(\n",
      "C:\\Users\\jmccall\\Anaconda3\\envs\\geospatial\\lib\\site-packages\\pysal\\model\\spvcm\\abstracts.py:10: UserWarning: The `dill` module is required to use the sqlite backend fully.\n",
      "  from .sqlite import head_to_sql, start_sql\n"
     ]
    }
   ],
   "source": [
    "import requests\n",
    "import urllib.request\n",
    "from zipfile import ZipFile\n",
    "import json\n",
    "import io\n",
    "import zipfile\n",
    "import geopandas as gpd\n",
    "from shapely.geometry import shape  \n",
    "import osr\n",
    "import pandas as pd\n",
    "import pysal as ps\n",
    "import numpy as np\n",
    "import requests\n",
    "import matplotlib.pyplot as plt\n",
    "%matplotlib inline"
   ]
  },
  {
   "cell_type": "markdown",
   "id": "a3675a3d",
   "metadata": {},
   "source": [
    "###### Bring in the TIGER file that we want and clean this for use"
   ]
  },
  {
   "cell_type": "code",
   "execution_count": 3,
   "id": "2d8cfa0c",
   "metadata": {},
   "outputs": [
    {
     "name": "stdout",
     "output_type": "stream",
     "text": [
      "<class 'geopandas.geodataframe.GeoDataFrame'>\n",
      "RangeIndex: 938 entries, 0 to 937\n",
      "Data columns (total 13 columns):\n",
      " #   Column    Non-Null Count  Dtype   \n",
      "---  ------    --------------  -----   \n",
      " 0   CSAFP     550 non-null    object  \n",
      " 1   CBSAFP    938 non-null    object  \n",
      " 2   GEOID     938 non-null    object  \n",
      " 3   NAME      938 non-null    object  \n",
      " 4   NAMELSAD  938 non-null    object  \n",
      " 5   LSAD      938 non-null    object  \n",
      " 6   MEMI      938 non-null    object  \n",
      " 7   MTFCC     938 non-null    object  \n",
      " 8   ALAND     938 non-null    int64   \n",
      " 9   AWATER    938 non-null    int64   \n",
      " 10  INTPTLAT  938 non-null    object  \n",
      " 11  INTPTLON  938 non-null    object  \n",
      " 12  geometry  938 non-null    geometry\n",
      "dtypes: geometry(1), int64(2), object(10)\n",
      "memory usage: 95.4+ KB\n"
     ]
    }
   ],
   "source": [
    "#extract GeoDataFrame from Tiger\n",
    "url= 'https://www2.census.gov/geo/tiger/TIGER2019/CBSA/tl_2019_us_cbsa.zip'\n",
    "cbsa = gpd.read_file(url)\n",
    "cbsa.crs\n",
    "cbsa.info()"
   ]
  },
  {
   "cell_type": "code",
   "execution_count": null,
   "id": "9331e661",
   "metadata": {},
   "outputs": [],
   "source": []
  }
 ],
 "metadata": {
  "kernelspec": {
   "display_name": "Python 3 (ipykernel)",
   "language": "python",
   "name": "python3"
  },
  "language_info": {
   "codemirror_mode": {
    "name": "ipython",
    "version": 3
   },
   "file_extension": ".py",
   "mimetype": "text/x-python",
   "name": "python",
   "nbconvert_exporter": "python",
   "pygments_lexer": "ipython3",
   "version": "3.8.5"
  }
 },
 "nbformat": 4,
 "nbformat_minor": 5
}
