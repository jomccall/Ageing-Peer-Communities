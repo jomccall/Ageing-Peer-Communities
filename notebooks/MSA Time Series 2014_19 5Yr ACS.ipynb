{
 "cells": [
  {
   "cell_type": "markdown",
   "id": "4f6a1c4c",
   "metadata": {},
   "source": [
    "## Imports"
   ]
  },
  {
   "cell_type": "code",
   "execution_count": 1,
   "id": "a4b8b7a3",
   "metadata": {},
   "outputs": [],
   "source": [
    "import pandas as pd\n",
    "import geopandas as gpd\n",
    "import folium"
   ]
  },
  {
   "cell_type": "markdown",
   "id": "628f7d2e",
   "metadata": {},
   "source": [
    "## Bring in our two files to join for time comparison.  \n",
    "\n",
    "We want to look at the change in population per age group, as well as share of total population per age group, between the two five year periods represented by the American Community Survey 5-Year estimates. Here that's 2010-2014, and 2015-2019. We're going to bring in the 2014 file and rename the columns so that it's clear which is the older set - but I'm not going to specify the year so that this code can be reused with minimal changes when the next 5 year estimates come out. I'm going to bring in the 2019 shapefile so that we can map it and we already have a geodataframe. Make sure to reproduce that shapefile in the 2019 CBSA prep notebook because these are regularly deleted for memory purposes."
   ]
  },
  {
   "cell_type": "code",
   "execution_count": 4,
   "id": "637009c1",
   "metadata": {},
   "outputs": [],
   "source": [
    "# 2019 shapefile\n",
    "new = gpd.read_file('../output/shapefiles/2019_CBSA/2019CBSA.shp')"
   ]
  },
  {
   "cell_type": "code",
   "execution_count": null,
   "id": "07c8964e",
   "metadata": {},
   "outputs": [],
   "source": [
    "#2014 csv\n",
    "old = pd.read_csv('../output/')"
   ]
  }
 ],
 "metadata": {
  "kernelspec": {
   "display_name": "Python 3 (ipykernel)",
   "language": "python",
   "name": "python3"
  },
  "language_info": {
   "codemirror_mode": {
    "name": "ipython",
    "version": 3
   },
   "file_extension": ".py",
   "mimetype": "text/x-python",
   "name": "python",
   "nbconvert_exporter": "python",
   "pygments_lexer": "ipython3",
   "version": "3.8.5"
  }
 },
 "nbformat": 4,
 "nbformat_minor": 5
}
