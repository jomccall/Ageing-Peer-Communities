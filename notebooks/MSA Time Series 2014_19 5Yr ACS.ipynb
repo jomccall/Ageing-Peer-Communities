{
 "cells": [
  {
   "cell_type": "markdown",
   "id": "890fa5a9",
   "metadata": {},
   "source": [
    "## Imports"
   ]
  },
  {
   "cell_type": "code",
   "execution_count": 77,
   "id": "f6634705",
   "metadata": {},
   "outputs": [],
   "source": [
    "import pandas as pd\n",
    "import geopandas as gpd\n",
    "import folium\n",
    "import matplotlib.pyplot as plt\n",
    "%matplotlib inline"
   ]
  },
  {
   "cell_type": "markdown",
   "id": "8df2fa69",
   "metadata": {},
   "source": [
    "## Bring in our two files to join for time comparison.  \n",
    "\n",
    "We want to look at the change in population per age group, as well as share of total population per age group, between the two five year periods represented by the American Community Survey 5-Year estimates. Here that's 2010-2014, and 2015-2019. We're going to bring in the 2014 file and rename the columns so that it's clear which is the older set - but I'm not going to specify the year so that this code can be reused with minimal changes when the next 5 year estimates come out. I'm going to bring in the 2019 shapefile so that we can map it and we already have a geodataframe. Make sure to reproduce that shapefile in the 2019 CBSA prep notebook because these are regularly deleted for memory purposes."
   ]
  },
  {
   "cell_type": "code",
   "execution_count": 78,
   "id": "1f8103fe",
   "metadata": {},
   "outputs": [],
   "source": [
    "# 2019 shapefile\n",
    "new = gpd.read_file('../output/shapefiles/2019_CBSA/2019CBSA.shp')"
   ]
  },
  {
   "cell_type": "code",
   "execution_count": 79,
   "id": "035e361c",
   "metadata": {},
   "outputs": [],
   "source": [
    "#2014 csv\n",
    "old = pd.read_csv('../output/csv/agegroups_2014_cbsa.csv')"
   ]
  },
  {
   "cell_type": "code",
   "execution_count": 80,
   "id": "d8163dce",
   "metadata": {},
   "outputs": [
    {
     "data": {
      "text/html": [
       "<div>\n",
       "<style scoped>\n",
       "    .dataframe tbody tr th:only-of-type {\n",
       "        vertical-align: middle;\n",
       "    }\n",
       "\n",
       "    .dataframe tbody tr th {\n",
       "        vertical-align: top;\n",
       "    }\n",
       "\n",
       "    .dataframe thead th {\n",
       "        text-align: right;\n",
       "    }\n",
       "</style>\n",
       "<table border=\"1\" class=\"dataframe\">\n",
       "  <thead>\n",
       "    <tr style=\"text-align: right;\">\n",
       "      <th></th>\n",
       "      <th>CSAFP</th>\n",
       "      <th>CBSAFP</th>\n",
       "      <th>FullName</th>\n",
       "      <th>MetroMicro</th>\n",
       "      <th>MEMI</th>\n",
       "      <th>MTFCC</th>\n",
       "      <th>ALAND</th>\n",
       "      <th>AWATER</th>\n",
       "      <th>INTPTLAT</th>\n",
       "      <th>INTPTLON</th>\n",
       "      <th>...</th>\n",
       "      <th>Pt40s</th>\n",
       "      <th>Pm50_65</th>\n",
       "      <th>Pf50_65</th>\n",
       "      <th>Pt50_65</th>\n",
       "      <th>Pmo65</th>\n",
       "      <th>Pfo65</th>\n",
       "      <th>Pto65</th>\n",
       "      <th>Name</th>\n",
       "      <th>State</th>\n",
       "      <th>geometry</th>\n",
       "    </tr>\n",
       "  </thead>\n",
       "  <tbody>\n",
       "    <tr>\n",
       "      <th>0</th>\n",
       "      <td>122</td>\n",
       "      <td>12020</td>\n",
       "      <td>Athens-Clarke County, GA</td>\n",
       "      <td>M1</td>\n",
       "      <td>1</td>\n",
       "      <td>G3110</td>\n",
       "      <td>2654601832</td>\n",
       "      <td>26140309</td>\n",
       "      <td>+33.9439840</td>\n",
       "      <td>-083.2138965</td>\n",
       "      <td>...</td>\n",
       "      <td>11.7</td>\n",
       "      <td>7.6</td>\n",
       "      <td>8.3</td>\n",
       "      <td>16.0</td>\n",
       "      <td>5.6</td>\n",
       "      <td>7.2</td>\n",
       "      <td>12.8</td>\n",
       "      <td>Athens-Clarke County</td>\n",
       "      <td>GA</td>\n",
       "      <td>POLYGON ((-83.53739 33.96591, -83.53184 33.968...</td>\n",
       "    </tr>\n",
       "    <tr>\n",
       "      <th>1</th>\n",
       "      <td>122</td>\n",
       "      <td>12060</td>\n",
       "      <td>Atlanta-Sandy Springs-Alpharetta, GA</td>\n",
       "      <td>M1</td>\n",
       "      <td>1</td>\n",
       "      <td>G3110</td>\n",
       "      <td>22494938651</td>\n",
       "      <td>387716575</td>\n",
       "      <td>+33.6937280</td>\n",
       "      <td>-084.3999113</td>\n",
       "      <td>...</td>\n",
       "      <td>14.2</td>\n",
       "      <td>9.0</td>\n",
       "      <td>9.8</td>\n",
       "      <td>18.8</td>\n",
       "      <td>5.1</td>\n",
       "      <td>6.8</td>\n",
       "      <td>11.9</td>\n",
       "      <td>Atlanta-Sandy Springs-Alpharetta</td>\n",
       "      <td>GA</td>\n",
       "      <td>POLYGON ((-85.33823 33.65312, -85.33842 33.654...</td>\n",
       "    </tr>\n",
       "    <tr>\n",
       "      <th>2</th>\n",
       "      <td>428</td>\n",
       "      <td>12100</td>\n",
       "      <td>Atlantic City-Hammonton, NJ</td>\n",
       "      <td>M1</td>\n",
       "      <td>1</td>\n",
       "      <td>G3110</td>\n",
       "      <td>1438776649</td>\n",
       "      <td>301268696</td>\n",
       "      <td>+39.4693555</td>\n",
       "      <td>-074.6337591</td>\n",
       "      <td>...</td>\n",
       "      <td>12.2</td>\n",
       "      <td>10.6</td>\n",
       "      <td>11.6</td>\n",
       "      <td>22.1</td>\n",
       "      <td>7.7</td>\n",
       "      <td>9.8</td>\n",
       "      <td>17.5</td>\n",
       "      <td>Atlantic City-Hammonton</td>\n",
       "      <td>NJ</td>\n",
       "      <td>POLYGON ((-74.85675 39.42076, -74.85670 39.420...</td>\n",
       "    </tr>\n",
       "  </tbody>\n",
       "</table>\n",
       "<p>3 rows × 57 columns</p>\n",
       "</div>"
      ],
      "text/plain": [
       "  CSAFP CBSAFP                              FullName MetroMicro MEMI  MTFCC  \\\n",
       "0   122  12020              Athens-Clarke County, GA         M1    1  G3110   \n",
       "1   122  12060  Atlanta-Sandy Springs-Alpharetta, GA         M1    1  G3110   \n",
       "2   428  12100           Atlantic City-Hammonton, NJ         M1    1  G3110   \n",
       "\n",
       "         ALAND     AWATER     INTPTLAT      INTPTLON  ... Pt40s Pm50_65  \\\n",
       "0   2654601832   26140309  +33.9439840  -083.2138965  ...  11.7     7.6   \n",
       "1  22494938651  387716575  +33.6937280  -084.3999113  ...  14.2     9.0   \n",
       "2   1438776649  301268696  +39.4693555  -074.6337591  ...  12.2    10.6   \n",
       "\n",
       "   Pf50_65  Pt50_65  Pmo65  Pfo65  Pto65                              Name  \\\n",
       "0      8.3     16.0    5.6    7.2   12.8              Athens-Clarke County   \n",
       "1      9.8     18.8    5.1    6.8   11.9  Atlanta-Sandy Springs-Alpharetta   \n",
       "2     11.6     22.1    7.7    9.8   17.5           Atlantic City-Hammonton   \n",
       "\n",
       "   State                                           geometry  \n",
       "0     GA  POLYGON ((-83.53739 33.96591, -83.53184 33.968...  \n",
       "1     GA  POLYGON ((-85.33823 33.65312, -85.33842 33.654...  \n",
       "2     NJ  POLYGON ((-74.85675 39.42076, -74.85670 39.420...  \n",
       "\n",
       "[3 rows x 57 columns]"
      ]
     },
     "execution_count": 80,
     "metadata": {},
     "output_type": "execute_result"
    }
   ],
   "source": [
    "new.head(3)"
   ]
  },
  {
   "cell_type": "markdown",
   "id": "74abd080",
   "metadata": {},
   "source": [
    "Before joining, look at the older file and add a tag to the column names - the groups are the same so this will allow us to tell them apart when we calculate our time series."
   ]
  },
  {
   "cell_type": "code",
   "execution_count": 81,
   "id": "0002bd06",
   "metadata": {},
   "outputs": [
    {
     "data": {
      "text/html": [
       "<div>\n",
       "<style scoped>\n",
       "    .dataframe tbody tr th:only-of-type {\n",
       "        vertical-align: middle;\n",
       "    }\n",
       "\n",
       "    .dataframe tbody tr th {\n",
       "        vertical-align: top;\n",
       "    }\n",
       "\n",
       "    .dataframe thead th {\n",
       "        text-align: right;\n",
       "    }\n",
       "</style>\n",
       "<table border=\"1\" class=\"dataframe\">\n",
       "  <thead>\n",
       "    <tr style=\"text-align: right;\">\n",
       "      <th></th>\n",
       "      <th>CBSA</th>\n",
       "      <th>GEOID</th>\n",
       "      <th>total</th>\n",
       "      <th>mtotal</th>\n",
       "      <th>mu5</th>\n",
       "      <th>ftotal</th>\n",
       "      <th>fu5</th>\n",
       "      <th>tu5</th>\n",
       "      <th>mschool</th>\n",
       "      <th>fschool</th>\n",
       "      <th>...</th>\n",
       "      <th>Pt40s</th>\n",
       "      <th>Pm50_65</th>\n",
       "      <th>Pf50_65</th>\n",
       "      <th>Pt50_65</th>\n",
       "      <th>Pmo65</th>\n",
       "      <th>Pfo65</th>\n",
       "      <th>Pto65</th>\n",
       "      <th>Name</th>\n",
       "      <th>State</th>\n",
       "      <th>CBSAFIPS</th>\n",
       "    </tr>\n",
       "  </thead>\n",
       "  <tbody>\n",
       "    <tr>\n",
       "      <th>0</th>\n",
       "      <td>Homosassa Springs, FL Metro Area</td>\n",
       "      <td>310M200US26140</td>\n",
       "      <td>139771</td>\n",
       "      <td>67497</td>\n",
       "      <td>2639</td>\n",
       "      <td>72274</td>\n",
       "      <td>2793</td>\n",
       "      <td>5432</td>\n",
       "      <td>8173</td>\n",
       "      <td>7883</td>\n",
       "      <td>...</td>\n",
       "      <td>10.5</td>\n",
       "      <td>10.8</td>\n",
       "      <td>12.7</td>\n",
       "      <td>23.5</td>\n",
       "      <td>16.1</td>\n",
       "      <td>17.5</td>\n",
       "      <td>33.6</td>\n",
       "      <td>Homosassa Springs</td>\n",
       "      <td>FL</td>\n",
       "      <td>26140</td>\n",
       "    </tr>\n",
       "    <tr>\n",
       "      <th>1</th>\n",
       "      <td>Hickory-Lenoir-Morganton, NC Metro Area</td>\n",
       "      <td>310M200US25860</td>\n",
       "      <td>363936</td>\n",
       "      <td>180006</td>\n",
       "      <td>10129</td>\n",
       "      <td>183930</td>\n",
       "      <td>9973</td>\n",
       "      <td>20102</td>\n",
       "      <td>31202</td>\n",
       "      <td>29556</td>\n",
       "      <td>...</td>\n",
       "      <td>14.7</td>\n",
       "      <td>10.3</td>\n",
       "      <td>10.8</td>\n",
       "      <td>21.1</td>\n",
       "      <td>7.1</td>\n",
       "      <td>9.1</td>\n",
       "      <td>16.2</td>\n",
       "      <td>Hickory-Lenoir-Morganton</td>\n",
       "      <td>NC</td>\n",
       "      <td>25860</td>\n",
       "    </tr>\n",
       "    <tr>\n",
       "      <th>2</th>\n",
       "      <td>Hobbs, NM Micro Area</td>\n",
       "      <td>310M200US26020</td>\n",
       "      <td>66876</td>\n",
       "      <td>34219</td>\n",
       "      <td>2909</td>\n",
       "      <td>32657</td>\n",
       "      <td>2881</td>\n",
       "      <td>5790</td>\n",
       "      <td>7194</td>\n",
       "      <td>6948</td>\n",
       "      <td>...</td>\n",
       "      <td>11.7</td>\n",
       "      <td>8.4</td>\n",
       "      <td>8.3</td>\n",
       "      <td>16.7</td>\n",
       "      <td>4.9</td>\n",
       "      <td>5.8</td>\n",
       "      <td>10.7</td>\n",
       "      <td>Hobbs</td>\n",
       "      <td>NM</td>\n",
       "      <td>26020</td>\n",
       "    </tr>\n",
       "  </tbody>\n",
       "</table>\n",
       "<p>3 rows × 50 columns</p>\n",
       "</div>"
      ],
      "text/plain": [
       "                                      CBSA           GEOID   total  mtotal  \\\n",
       "0         Homosassa Springs, FL Metro Area  310M200US26140  139771   67497   \n",
       "1  Hickory-Lenoir-Morganton, NC Metro Area  310M200US25860  363936  180006   \n",
       "2                     Hobbs, NM Micro Area  310M200US26020   66876   34219   \n",
       "\n",
       "     mu5  ftotal   fu5    tu5  mschool  fschool  ...  Pt40s  Pm50_65  Pf50_65  \\\n",
       "0   2639   72274  2793   5432     8173     7883  ...   10.5     10.8     12.7   \n",
       "1  10129  183930  9973  20102    31202    29556  ...   14.7     10.3     10.8   \n",
       "2   2909   32657  2881   5790     7194     6948  ...   11.7      8.4      8.3   \n",
       "\n",
       "   Pt50_65  Pmo65  Pfo65  Pto65                      Name  State  CBSAFIPS  \n",
       "0     23.5   16.1   17.5   33.6         Homosassa Springs     FL     26140  \n",
       "1     21.1    7.1    9.1   16.2  Hickory-Lenoir-Morganton     NC     25860  \n",
       "2     16.7    4.9    5.8   10.7                     Hobbs     NM     26020  \n",
       "\n",
       "[3 rows x 50 columns]"
      ]
     },
     "execution_count": 81,
     "metadata": {},
     "output_type": "execute_result"
    }
   ],
   "source": [
    "old.head(3)"
   ]
  },
  {
   "cell_type": "code",
   "execution_count": 82,
   "id": "927ea20b",
   "metadata": {},
   "outputs": [],
   "source": [
    "#for loop for renaming them with an O* for old at the beginning of each column\n",
    "for col in old.columns:\n",
    "    old.rename(columns = {col:'O*'+col}, inplace = True)"
   ]
  },
  {
   "cell_type": "code",
   "execution_count": 83,
   "id": "17c395e5",
   "metadata": {},
   "outputs": [
    {
     "data": {
      "text/html": [
       "<div>\n",
       "<style scoped>\n",
       "    .dataframe tbody tr th:only-of-type {\n",
       "        vertical-align: middle;\n",
       "    }\n",
       "\n",
       "    .dataframe tbody tr th {\n",
       "        vertical-align: top;\n",
       "    }\n",
       "\n",
       "    .dataframe thead th {\n",
       "        text-align: right;\n",
       "    }\n",
       "</style>\n",
       "<table border=\"1\" class=\"dataframe\">\n",
       "  <thead>\n",
       "    <tr style=\"text-align: right;\">\n",
       "      <th></th>\n",
       "      <th>O*CBSA</th>\n",
       "      <th>O*GEOID</th>\n",
       "      <th>O*total</th>\n",
       "      <th>O*mtotal</th>\n",
       "      <th>O*mu5</th>\n",
       "      <th>O*ftotal</th>\n",
       "      <th>O*fu5</th>\n",
       "      <th>O*tu5</th>\n",
       "      <th>O*mschool</th>\n",
       "      <th>O*fschool</th>\n",
       "      <th>...</th>\n",
       "      <th>O*Pt40s</th>\n",
       "      <th>O*Pm50_65</th>\n",
       "      <th>O*Pf50_65</th>\n",
       "      <th>O*Pt50_65</th>\n",
       "      <th>O*Pmo65</th>\n",
       "      <th>O*Pfo65</th>\n",
       "      <th>O*Pto65</th>\n",
       "      <th>O*Name</th>\n",
       "      <th>O*State</th>\n",
       "      <th>O*CBSAFIPS</th>\n",
       "    </tr>\n",
       "  </thead>\n",
       "  <tbody>\n",
       "    <tr>\n",
       "      <th>0</th>\n",
       "      <td>Homosassa Springs, FL Metro Area</td>\n",
       "      <td>310M200US26140</td>\n",
       "      <td>139771</td>\n",
       "      <td>67497</td>\n",
       "      <td>2639</td>\n",
       "      <td>72274</td>\n",
       "      <td>2793</td>\n",
       "      <td>5432</td>\n",
       "      <td>8173</td>\n",
       "      <td>7883</td>\n",
       "      <td>...</td>\n",
       "      <td>10.5</td>\n",
       "      <td>10.8</td>\n",
       "      <td>12.7</td>\n",
       "      <td>23.5</td>\n",
       "      <td>16.1</td>\n",
       "      <td>17.5</td>\n",
       "      <td>33.6</td>\n",
       "      <td>Homosassa Springs</td>\n",
       "      <td>FL</td>\n",
       "      <td>26140</td>\n",
       "    </tr>\n",
       "    <tr>\n",
       "      <th>1</th>\n",
       "      <td>Hickory-Lenoir-Morganton, NC Metro Area</td>\n",
       "      <td>310M200US25860</td>\n",
       "      <td>363936</td>\n",
       "      <td>180006</td>\n",
       "      <td>10129</td>\n",
       "      <td>183930</td>\n",
       "      <td>9973</td>\n",
       "      <td>20102</td>\n",
       "      <td>31202</td>\n",
       "      <td>29556</td>\n",
       "      <td>...</td>\n",
       "      <td>14.7</td>\n",
       "      <td>10.3</td>\n",
       "      <td>10.8</td>\n",
       "      <td>21.1</td>\n",
       "      <td>7.1</td>\n",
       "      <td>9.1</td>\n",
       "      <td>16.2</td>\n",
       "      <td>Hickory-Lenoir-Morganton</td>\n",
       "      <td>NC</td>\n",
       "      <td>25860</td>\n",
       "    </tr>\n",
       "    <tr>\n",
       "      <th>2</th>\n",
       "      <td>Hobbs, NM Micro Area</td>\n",
       "      <td>310M200US26020</td>\n",
       "      <td>66876</td>\n",
       "      <td>34219</td>\n",
       "      <td>2909</td>\n",
       "      <td>32657</td>\n",
       "      <td>2881</td>\n",
       "      <td>5790</td>\n",
       "      <td>7194</td>\n",
       "      <td>6948</td>\n",
       "      <td>...</td>\n",
       "      <td>11.7</td>\n",
       "      <td>8.4</td>\n",
       "      <td>8.3</td>\n",
       "      <td>16.7</td>\n",
       "      <td>4.9</td>\n",
       "      <td>5.8</td>\n",
       "      <td>10.7</td>\n",
       "      <td>Hobbs</td>\n",
       "      <td>NM</td>\n",
       "      <td>26020</td>\n",
       "    </tr>\n",
       "  </tbody>\n",
       "</table>\n",
       "<p>3 rows × 50 columns</p>\n",
       "</div>"
      ],
      "text/plain": [
       "                                    O*CBSA         O*GEOID  O*total  O*mtotal  \\\n",
       "0         Homosassa Springs, FL Metro Area  310M200US26140   139771     67497   \n",
       "1  Hickory-Lenoir-Morganton, NC Metro Area  310M200US25860   363936    180006   \n",
       "2                     Hobbs, NM Micro Area  310M200US26020    66876     34219   \n",
       "\n",
       "   O*mu5  O*ftotal  O*fu5  O*tu5  O*mschool  O*fschool  ...  O*Pt40s  \\\n",
       "0   2639     72274   2793   5432       8173       7883  ...     10.5   \n",
       "1  10129    183930   9973  20102      31202      29556  ...     14.7   \n",
       "2   2909     32657   2881   5790       7194       6948  ...     11.7   \n",
       "\n",
       "   O*Pm50_65  O*Pf50_65  O*Pt50_65  O*Pmo65  O*Pfo65  O*Pto65  \\\n",
       "0       10.8       12.7       23.5     16.1     17.5     33.6   \n",
       "1       10.3       10.8       21.1      7.1      9.1     16.2   \n",
       "2        8.4        8.3       16.7      4.9      5.8     10.7   \n",
       "\n",
       "                     O*Name  O*State  O*CBSAFIPS  \n",
       "0         Homosassa Springs       FL       26140  \n",
       "1  Hickory-Lenoir-Morganton       NC       25860  \n",
       "2                     Hobbs       NM       26020  \n",
       "\n",
       "[3 rows x 50 columns]"
      ]
     },
     "execution_count": 83,
     "metadata": {},
     "output_type": "execute_result"
    }
   ],
   "source": [
    "#check that this was effective\n",
    "old.head(3)"
   ]
  },
  {
   "cell_type": "code",
   "execution_count": 84,
   "id": "71f9622d",
   "metadata": {},
   "outputs": [],
   "source": [
    "#ensure same datatype on joining columns\n",
    "new['CBSAFP'] = new['CBSAFP'].astype(int)\n",
    "old['O*CBSAFIPS'] = old['O*CBSAFIPS'].astype(int)"
   ]
  },
  {
   "cell_type": "markdown",
   "id": "bb8f1005",
   "metadata": {},
   "source": [
    "Now we can join the old df onto the new geodataframe"
   ]
  },
  {
   "cell_type": "code",
   "execution_count": 85,
   "id": "5dadf506",
   "metadata": {},
   "outputs": [],
   "source": [
    "cbsa = new.merge(old, left_on='CBSAFP', right_on='O*CBSAFIPS')"
   ]
  },
  {
   "cell_type": "code",
   "execution_count": 86,
   "id": "831ca5f1",
   "metadata": {},
   "outputs": [
    {
     "data": {
      "text/html": [
       "<div>\n",
       "<style scoped>\n",
       "    .dataframe tbody tr th:only-of-type {\n",
       "        vertical-align: middle;\n",
       "    }\n",
       "\n",
       "    .dataframe tbody tr th {\n",
       "        vertical-align: top;\n",
       "    }\n",
       "\n",
       "    .dataframe thead th {\n",
       "        text-align: right;\n",
       "    }\n",
       "</style>\n",
       "<table border=\"1\" class=\"dataframe\">\n",
       "  <thead>\n",
       "    <tr style=\"text-align: right;\">\n",
       "      <th></th>\n",
       "      <th>CSAFP</th>\n",
       "      <th>CBSAFP</th>\n",
       "      <th>FullName</th>\n",
       "      <th>MetroMicro</th>\n",
       "      <th>MEMI</th>\n",
       "      <th>MTFCC</th>\n",
       "      <th>ALAND</th>\n",
       "      <th>AWATER</th>\n",
       "      <th>INTPTLAT</th>\n",
       "      <th>INTPTLON</th>\n",
       "      <th>...</th>\n",
       "      <th>O*Pt40s</th>\n",
       "      <th>O*Pm50_65</th>\n",
       "      <th>O*Pf50_65</th>\n",
       "      <th>O*Pt50_65</th>\n",
       "      <th>O*Pmo65</th>\n",
       "      <th>O*Pfo65</th>\n",
       "      <th>O*Pto65</th>\n",
       "      <th>O*Name</th>\n",
       "      <th>O*State</th>\n",
       "      <th>O*CBSAFIPS</th>\n",
       "    </tr>\n",
       "  </thead>\n",
       "  <tbody>\n",
       "    <tr>\n",
       "      <th>0</th>\n",
       "      <td>122</td>\n",
       "      <td>12020</td>\n",
       "      <td>Athens-Clarke County, GA</td>\n",
       "      <td>M1</td>\n",
       "      <td>1</td>\n",
       "      <td>G3110</td>\n",
       "      <td>2654601832</td>\n",
       "      <td>26140309</td>\n",
       "      <td>+33.9439840</td>\n",
       "      <td>-083.2138965</td>\n",
       "      <td>...</td>\n",
       "      <td>11.6</td>\n",
       "      <td>7.6</td>\n",
       "      <td>8.3</td>\n",
       "      <td>15.9</td>\n",
       "      <td>4.7</td>\n",
       "      <td>6.3</td>\n",
       "      <td>10.9</td>\n",
       "      <td>Athens-Clarke County</td>\n",
       "      <td>GA</td>\n",
       "      <td>12020</td>\n",
       "    </tr>\n",
       "    <tr>\n",
       "      <th>1</th>\n",
       "      <td>122</td>\n",
       "      <td>12060</td>\n",
       "      <td>Atlanta-Sandy Springs-Alpharetta, GA</td>\n",
       "      <td>M1</td>\n",
       "      <td>1</td>\n",
       "      <td>G3110</td>\n",
       "      <td>22494938651</td>\n",
       "      <td>387716575</td>\n",
       "      <td>+33.6937280</td>\n",
       "      <td>-084.3999113</td>\n",
       "      <td>...</td>\n",
       "      <td>15.4</td>\n",
       "      <td>8.6</td>\n",
       "      <td>9.5</td>\n",
       "      <td>18.0</td>\n",
       "      <td>4.2</td>\n",
       "      <td>5.7</td>\n",
       "      <td>9.9</td>\n",
       "      <td>Atlanta-Sandy Springs-Roswell</td>\n",
       "      <td>GA</td>\n",
       "      <td>12060</td>\n",
       "    </tr>\n",
       "  </tbody>\n",
       "</table>\n",
       "<p>2 rows × 107 columns</p>\n",
       "</div>"
      ],
      "text/plain": [
       "  CSAFP  CBSAFP                              FullName MetroMicro MEMI  MTFCC  \\\n",
       "0   122   12020              Athens-Clarke County, GA         M1    1  G3110   \n",
       "1   122   12060  Atlanta-Sandy Springs-Alpharetta, GA         M1    1  G3110   \n",
       "\n",
       "         ALAND     AWATER     INTPTLAT      INTPTLON  ... O*Pt40s O*Pm50_65  \\\n",
       "0   2654601832   26140309  +33.9439840  -083.2138965  ...    11.6       7.6   \n",
       "1  22494938651  387716575  +33.6937280  -084.3999113  ...    15.4       8.6   \n",
       "\n",
       "   O*Pf50_65  O*Pt50_65  O*Pmo65  O*Pfo65  O*Pto65  \\\n",
       "0        8.3       15.9      4.7      6.3     10.9   \n",
       "1        9.5       18.0      4.2      5.7      9.9   \n",
       "\n",
       "                          O*Name  O*State  O*CBSAFIPS  \n",
       "0           Athens-Clarke County       GA       12020  \n",
       "1  Atlanta-Sandy Springs-Roswell       GA       12060  \n",
       "\n",
       "[2 rows x 107 columns]"
      ]
     },
     "execution_count": 86,
     "metadata": {},
     "output_type": "execute_result"
    }
   ],
   "source": [
    "cbsa.head(2)"
   ]
  },
  {
   "cell_type": "code",
   "execution_count": 87,
   "id": "d34cde2d",
   "metadata": {},
   "outputs": [
    {
     "name": "stdout",
     "output_type": "stream",
     "text": [
      "<class 'geopandas.geodataframe.GeoDataFrame'>\n",
      "Int64Index: 907 entries, 0 to 906\n",
      "Columns: 107 entries, CSAFP to O*CBSAFIPS\n",
      "dtypes: float64(39), geometry(1), int32(2), int64(50), object(15)\n",
      "memory usage: 758.2+ KB\n"
     ]
    }
   ],
   "source": [
    "cbsa.info()"
   ]
  },
  {
   "cell_type": "markdown",
   "id": "2bb679da",
   "metadata": {},
   "source": [
    "# Now we start thinking about the kinds of change we want to look at.\n",
    "\n",
    "With the measures we have there are a few ways to look at things:  \n",
    "- real change  \n",
    "- percent change in the raw numbers  \n",
    "- change in population share  \n",
    "- some sort of joint metric, like change in elderly population combined with under 5 and tax base populations put together into a ratio  \n",
    "\n",
    "We'll explore all of these options, starting from the top."
   ]
  },
  {
   "cell_type": "markdown",
   "id": "852e4324",
   "metadata": {},
   "source": [
    "## Real change, limited to 65+"
   ]
  },
  {
   "cell_type": "code",
   "execution_count": 88,
   "id": "95dbacdb",
   "metadata": {},
   "outputs": [],
   "source": [
    "cbsa['Telderlyrealchange'] = cbsa['to65'] - cbsa['O*to65']\n",
    "cbsa['Melderlyrealchange'] = cbsa['mo65'] - cbsa['O*mo65']\n",
    "cbsa['Felderlyrealchange'] = cbsa['fo65'] - cbsa['O*fo65']"
   ]
  },
  {
   "cell_type": "code",
   "execution_count": 89,
   "id": "fd6ba309",
   "metadata": {},
   "outputs": [],
   "source": [
    "#make another small dataframe to check out high and low values, who's around the Nashville MSA... etc.\n",
    "elderlyreal = cbsa[['FullName', 'CBSAFP', 'MetroMicro', 'geometry', 'to65', 'O*to65', 'Telderlyrealchange',\n",
    "                    'Melderlyrealchange', 'mo65', 'O*mo65', \n",
    "                    'Felderlyrealchange', 'fo65', 'O*fo65']]"
   ]
  },
  {
   "cell_type": "code",
   "execution_count": 90,
   "id": "784b7dd8",
   "metadata": {},
   "outputs": [
    {
     "name": "stderr",
     "output_type": "stream",
     "text": [
      "C:\\Users\\jmccall\\Anaconda3\\envs\\geospatial\\lib\\site-packages\\pandas\\core\\frame.py:3607: SettingWithCopyWarning: \n",
      "A value is trying to be set on a copy of a slice from a DataFrame.\n",
      "Try using .loc[row_indexer,col_indexer] = value instead\n",
      "\n",
      "See the caveats in the documentation: https://pandas.pydata.org/pandas-docs/stable/user_guide/indexing.html#returning-a-view-versus-a-copy\n",
      "  self._set_item(key, value)\n"
     ]
    }
   ],
   "source": [
    "#create a list of the columns you want to rank and then create a for loop to write in the rankings as integers\n",
    "cols = ['to65', 'O*to65', 'Telderlyrealchange',\n",
    "        'Melderlyrealchange', 'mo65', 'O*mo65',\n",
    "        'Felderlyrealchange', 'fo65', 'O*fo65']\n",
    "\n",
    "for i in cols:\n",
    "    elderlyreal['rank{}.'.format(i)] = elderlyreal['{}'.format(i)].rank().astype(int)\n",
    "    \n",
    "elderlyreal = elderlyreal.copy()"
   ]
  },
  {
   "cell_type": "code",
   "execution_count": 91,
   "id": "402068ea",
   "metadata": {},
   "outputs": [],
   "source": [
    "#index into where the Nashville MSA is to check the rankings out\n",
    "nash = elderlyreal.loc[elderlyreal['CBSAFP'] == 34980].reset_index(drop = True)"
   ]
  },
  {
   "cell_type": "code",
   "execution_count": 92,
   "id": "ed115f12",
   "metadata": {},
   "outputs": [
    {
     "name": "stdout",
     "output_type": "stream",
     "text": [
      "The following number is Nashville's rank in 2015-2019 total elderly population:\n",
      "______________________________________________________________________________\n",
      "0    869\n",
      "Name: rankto65., dtype: int32\n",
      "The following number is Nashville's rank in 2010-2014 total elderly population:\n",
      "______________________________________________________________________________\n",
      "0    868\n",
      "Name: rankO*to65., dtype: int32\n",
      "The following number is Nashville's rank in 5 year over 5 year period growth in  total elderly population:\n",
      "______________________________________________________________________________\n",
      "0    870\n",
      "Name: rankTelderlyrealchange., dtype: int32\n",
      "The following number is Nashville's rank in 5 year over 5 year period growth in  total elderly male population:\n",
      "______________________________________________________________________________\n",
      "0    870\n",
      "Name: rankMelderlyrealchange., dtype: int32\n",
      "The following number is Nashville's rank in 2015-2019 total elderly male population:\n",
      "______________________________________________________________________________\n",
      "0    869\n",
      "Name: rankmo65., dtype: int32\n",
      "The following number is Nashville's rank in 2010-2014 total elderly male population:\n",
      "______________________________________________________________________________\n",
      "0    868\n",
      "Name: rankO*mo65., dtype: int32\n",
      "The following number is Nashville's rank in 5 year over 5 year period growth in  total elderly female population:\n",
      "______________________________________________________________________________\n",
      "0    870\n",
      "Name: rankFelderlyrealchange., dtype: int32\n",
      "The following number is Nashville's rank in 2015-2019 total elderly female population:\n",
      "______________________________________________________________________________\n",
      "0    869\n",
      "Name: rankfo65., dtype: int32\n",
      "The following number is Nashville's rank in 2010-2014 total elderly female population:\n",
      "______________________________________________________________________________\n",
      "0    869\n",
      "Name: rankO*fo65., dtype: int32\n"
     ]
    }
   ],
   "source": [
    "print(\"The following number is Nashville's rank in 2015-2019 total elderly population:\")\n",
    "print('______________________________________________________________________________')\n",
    "print(nash['rankto65.'])\n",
    "print(\"The following number is Nashville's rank in 2010-2014 total elderly population:\")\n",
    "print('______________________________________________________________________________')\n",
    "print(nash['rankO*to65.'])\n",
    "print(\"The following number is Nashville's rank in 5 year over 5 year period growth in  total elderly population:\")\n",
    "print('______________________________________________________________________________')\n",
    "print(nash['rankTelderlyrealchange.'])\n",
    "print(\"The following number is Nashville's rank in 5 year over 5 year period growth in  total elderly male population:\")\n",
    "print('______________________________________________________________________________')\n",
    "print(nash['rankMelderlyrealchange.'])\n",
    "print(\"The following number is Nashville's rank in 2015-2019 total elderly male population:\")\n",
    "print('______________________________________________________________________________')\n",
    "print(nash['rankmo65.'])\n",
    "print(\"The following number is Nashville's rank in 2010-2014 total elderly male population:\")\n",
    "print('______________________________________________________________________________')\n",
    "print(nash['rankO*mo65.'])\n",
    "print(\"The following number is Nashville's rank in 5 year over 5 year period growth in  total elderly female population:\")\n",
    "print('______________________________________________________________________________')\n",
    "print(nash['rankFelderlyrealchange.'])\n",
    "print(\"The following number is Nashville's rank in 2015-2019 total elderly female population:\")\n",
    "print('______________________________________________________________________________')\n",
    "print(nash['rankfo65.'])\n",
    "print(\"The following number is Nashville's rank in 2010-2014 total elderly female population:\")\n",
    "print('______________________________________________________________________________')\n",
    "print(nash['rankO*fo65.'])"
   ]
  },
  {
   "cell_type": "markdown",
   "id": "94b924ec",
   "metadata": {},
   "source": [
    "###### It's interesting to see how close all of these rankings are. Let's find some peer communities:"
   ]
  },
  {
   "cell_type": "code",
   "execution_count": 93,
   "id": "5374d107",
   "metadata": {},
   "outputs": [],
   "source": [
    "range = (865, 866, 867, 869, 870, 871, 872, 873, 874, 875)"
   ]
  },
  {
   "cell_type": "code",
   "execution_count": 94,
   "id": "d2c73e9d",
   "metadata": {},
   "outputs": [],
   "source": [
    "peers_totalelderlychange = elderlyreal.loc[elderlyreal['rankTelderlyrealchange.'].isin(range)].reset_index(drop = True)"
   ]
  },
  {
   "cell_type": "code",
   "execution_count": 95,
   "id": "380d29ad",
   "metadata": {},
   "outputs": [
    {
     "name": "stdout",
     "output_type": "stream",
     "text": [
      "The following are our peer communities, based on total real change in elderly population:\n",
      "_________________________________________________________________________________________\n",
      "0                              Cleveland-Elyria, OH\n",
      "1                         Cape Coral-Fort Myers, FL\n",
      "2                  Indianapolis-Carmel-Anderson, IN\n",
      "3     Myrtle Beach-Conway-North Myrtle Beach, SC-NC\n",
      "4    Nashville-Davidson--Murfreesboro--Franklin, TN\n",
      "5                 North Port-Sarasota-Bradenton, FL\n",
      "6                                    Pittsburgh, PA\n",
      "7                                  Raleigh-Cary, NC\n",
      "8                       San Juan-Bayamón-Caguas, PR\n",
      "9        Virginia Beach-Norfolk-Newport News, VA-NC\n",
      "Name: FullName, dtype: object\n"
     ]
    }
   ],
   "source": [
    "print('The following are our peer communities, based on total real change in elderly population:')\n",
    "print('_________________________________________________________________________________________')\n",
    "\n",
    "print(peers_totalelderlychange['FullName'])"
   ]
  },
  {
   "cell_type": "code",
   "execution_count": 96,
   "id": "49f2c8e9",
   "metadata": {},
   "outputs": [],
   "source": [
    "#print the whole df to see the other associated info:\n",
    "#peers_totalelderlychange"
   ]
  },
  {
   "cell_type": "markdown",
   "id": "b3df32d7",
   "metadata": {},
   "source": [
    "## Percent change, limited to 65+, u18, and the rest as one group aka \"tax base\", I'm dropping the gender aspect here I don't think it's really worth much at this point."
   ]
  },
  {
   "cell_type": "markdown",
   "id": "caf2f121",
   "metadata": {},
   "source": [
    "First add up the tax base group:"
   ]
  },
  {
   "cell_type": "code",
   "execution_count": 98,
   "id": "a54d9f8d",
   "metadata": {},
   "outputs": [],
   "source": [
    "cbsa['O*child'] = cbsa['O*tu5']+cbsa['O*tschool']\n",
    "cbsa['child'] = cbsa['tu5']+cbsa['tschool']\n",
    "cbsa['O*taxbase'] = cbsa['O*t18_20s']+cbsa['O*t30s']+cbsa['O*t40s']+cbsa['O*t50_65']\n",
    "cbsa['taxbase'] = cbsa['t18_20s']+cbsa['t30s']+cbsa['t40s']+cbsa['t50_65']"
   ]
  },
  {
   "cell_type": "code",
   "execution_count": null,
   "id": "de85c359",
   "metadata": {},
   "outputs": [],
   "source": []
  },
  {
   "cell_type": "code",
   "execution_count": 119,
   "id": "5951acc5",
   "metadata": {},
   "outputs": [],
   "source": [
    "cbsa['elderlypercchange'] = round((cbsa['to65'] - cbsa['O*to65'])*100/cbsa['O*to65'], 2)\n",
    "cbsa['taxbasepercchange'] = round((cbsa['taxbase'] - cbsa['O*taxbase'])*100/cbsa['O*to65'], 2)\n",
    "cbsa['childpercchange'] = round((cbsa['child'] - cbsa['O*child'])*100/cbsa['O*to65'], 2)"
   ]
  },
  {
   "cell_type": "code",
   "execution_count": 120,
   "id": "cd68ec21",
   "metadata": {},
   "outputs": [],
   "source": [
    "#make another small dataframe to check out high and low values, who's around the Nashville MSA... etc.\n",
    "groupperc = cbsa[['FullName', 'CBSAFP', 'MetroMicro', 'geometry', 'elderlypercchange',\n",
    "                    'taxbasepercchange', 'childpercchange']]"
   ]
  },
  {
   "cell_type": "code",
   "execution_count": 121,
   "id": "fc15f5d3",
   "metadata": {},
   "outputs": [
    {
     "name": "stderr",
     "output_type": "stream",
     "text": [
      "C:\\Users\\jmccall\\Anaconda3\\envs\\geospatial\\lib\\site-packages\\pandas\\core\\frame.py:3607: SettingWithCopyWarning: \n",
      "A value is trying to be set on a copy of a slice from a DataFrame.\n",
      "Try using .loc[row_indexer,col_indexer] = value instead\n",
      "\n",
      "See the caveats in the documentation: https://pandas.pydata.org/pandas-docs/stable/user_guide/indexing.html#returning-a-view-versus-a-copy\n",
      "  self._set_item(key, value)\n"
     ]
    }
   ],
   "source": [
    "#create a list of the columns you want to rank and then create a for loop to write in the rankings as integers\n",
    "cols = ['elderlypercchange','taxbasepercchange','childpercchange']\n",
    "\n",
    "for i in cols:\n",
    "    groupperc['rank{}.'.format(i)] = groupperc['{}'.format(i)].rank().astype(int)\n",
    "    \n",
    "groupperc = groupperc.copy()"
   ]
  },
  {
   "cell_type": "code",
   "execution_count": 122,
   "id": "80a35c15",
   "metadata": {},
   "outputs": [],
   "source": [
    "#index into where the Nashville MSA is to check the rankings out\n",
    "nash = groupperc.loc[groupperc['CBSAFP'] == 34980].reset_index(drop = True)"
   ]
  },
  {
   "cell_type": "code",
   "execution_count": 123,
   "id": "6a4245dc",
   "metadata": {},
   "outputs": [
    {
     "name": "stdout",
     "output_type": "stream",
     "text": [
      "The following number is Nashville's rank in percent growth in a 5 year over 5 year period for total elderly population:\n",
      "______________________________________________________________________________\n",
      "0    726\n",
      "Name: rankelderlypercchange., dtype: int32\n",
      "The following number is Nashville's rank in percent growth in a 5 year over 5 year period for total tax base population:\n",
      "______________________________________________________________________________\n",
      "0    833\n",
      "Name: ranktaxbasepercchange., dtype: int32\n",
      "The following number is Nashville's rank in percent growth in a 5 year over 5 year period for total child population:\n",
      "______________________________________________________________________________\n",
      "0    823\n",
      "Name: rankchildpercchange., dtype: int32\n"
     ]
    }
   ],
   "source": [
    "print(\"The following number is Nashville's rank in percent growth in a 5 year over 5 year period for total elderly population:\")\n",
    "print('______________________________________________________________________________')\n",
    "print(nash['rankelderlypercchange.'])\n",
    "print(\"The following number is Nashville's rank in percent growth in a 5 year over 5 year period for total tax base population:\")\n",
    "print('______________________________________________________________________________')\n",
    "print(nash['ranktaxbasepercchange.'])\n",
    "print(\"The following number is Nashville's rank in percent growth in a 5 year over 5 year period for total child population:\")\n",
    "print('______________________________________________________________________________')\n",
    "print(nash['rankchildpercchange.'])"
   ]
  },
  {
   "cell_type": "markdown",
   "id": "2d03246b",
   "metadata": {},
   "source": [
    "Let's look at our peers for total elderly:"
   ]
  },
  {
   "cell_type": "code",
   "execution_count": 124,
   "id": "ebb0ee54",
   "metadata": {},
   "outputs": [
    {
     "name": "stdout",
     "output_type": "stream",
     "text": [
      "The following are our peer communities, based on percent change in elderly population:\n",
      "_________________________________________________________________________________________\n",
      "0                          College Station-Bryan, TX\n",
      "1                                        Concord, NH\n",
      "2                                    Idaho Falls, ID\n",
      "3                                         Ithaca, NY\n",
      "4                              Manchester-Nashua, NH\n",
      "5                                     Morgantown, WV\n",
      "6     Nashville-Davidson--Murfreesboro--Franklin, TN\n",
      "7                      San Antonio-New Braunfels, TX\n",
      "8                                    Sevierville, TN\n",
      "9                                       Show Low, AZ\n",
      "10                                   Sioux Falls, SD\n",
      "Name: FullName, dtype: object\n",
      "0     21.67\n",
      "1     21.49\n",
      "2     21.40\n",
      "3     21.64\n",
      "4     21.46\n",
      "5     21.72\n",
      "6     21.72\n",
      "7     21.89\n",
      "8     21.94\n",
      "9     21.86\n",
      "10    21.74\n",
      "Name: elderlypercchange, dtype: float64\n"
     ]
    }
   ],
   "source": [
    "range = (721, 722, 723, 724, 725, 726, 727, 728, 729, 730, 731)\n",
    "peers_elderlypercchange = groupperc.loc[groupperc['rankelderlypercchange.'].isin(range)].reset_index(drop = True)\n",
    "print('The following are our peer communities, based on percent change in elderly population:')\n",
    "print('_________________________________________________________________________________________')\n",
    "\n",
    "print(peers_elderlypercchange['FullName'])\n",
    "print(peers_elderlypercchange['elderlypercchange'])"
   ]
  },
  {
   "cell_type": "code",
   "execution_count": 110,
   "id": "8dae1323",
   "metadata": {},
   "outputs": [],
   "source": [
    "# #print the whole df to see the other associated info:\n",
    "# peers_elderlypercchange"
   ]
  },
  {
   "cell_type": "markdown",
   "id": "9a1bd200",
   "metadata": {},
   "source": [
    "Let's look at our peers for total tax base:"
   ]
  },
  {
   "cell_type": "code",
   "execution_count": 125,
   "id": "20d34c79",
   "metadata": {},
   "outputs": [
    {
     "name": "stdout",
     "output_type": "stream",
     "text": [
      "The following are our peer communities, based on percent change in tax base population:\n",
      "_________________________________________________________________________________________\n",
      "0                          Bismarck, ND\n",
      "1        Boston-Cambridge-Newton, MA-NH\n",
      "2                           Edwards, CO\n",
      "3                           El Paso, TX\n",
      "4                    Albany-Lebanon, OR\n",
      "5                           Arcadia, FL\n",
      "6                           Modesto, CA\n",
      "7     North Port-Sarasota-Bradenton, FL\n",
      "8                         Paragould, AR\n",
      "9              Rio Grande City-Roma, TX\n",
      "10                           Toledo, OH\n",
      "Name: FullName, dtype: object\n",
      "0     13.79\n",
      "1     13.80\n",
      "2     13.24\n",
      "3     13.36\n",
      "4     13.73\n",
      "5     13.59\n",
      "6     14.01\n",
      "7     13.91\n",
      "8     13.65\n",
      "9     14.04\n",
      "10    13.26\n",
      "Name: taxbasepercchange, dtype: float64\n"
     ]
    }
   ],
   "source": [
    "range = (721, 722, 723, 724, 725, 726, 727, 728, 729, 730, 731)\n",
    "peers_tbpercchange = groupperc.loc[groupperc['ranktaxbasepercchange.'].isin(range)].reset_index(drop = True)\n",
    "print('The following are our peer communities, based on percent change in tax base population:')\n",
    "print('_________________________________________________________________________________________')\n",
    "\n",
    "print(peers_tbpercchange['FullName'])\n",
    "print(peers_tbpercchange['taxbasepercchange'])"
   ]
  },
  {
   "cell_type": "code",
   "execution_count": 126,
   "id": "21694b5f",
   "metadata": {},
   "outputs": [
    {
     "name": "stdout",
     "output_type": "stream",
     "text": [
      "The following are our peer communities, based on percent change in child population:\n",
      "_________________________________________________________________________________________\n",
      "0                          Bismarck, ND\n",
      "1        Boston-Cambridge-Newton, MA-NH\n",
      "2                           Edwards, CO\n",
      "3                           El Paso, TX\n",
      "4                    Albany-Lebanon, OR\n",
      "5                           Arcadia, FL\n",
      "6                           Modesto, CA\n",
      "7     North Port-Sarasota-Bradenton, FL\n",
      "8                         Paragould, AR\n",
      "9              Rio Grande City-Roma, TX\n",
      "10                           Toledo, OH\n",
      "Name: FullName, dtype: object\n",
      "0      7.13\n",
      "1     -2.00\n",
      "2     -9.05\n",
      "3    -11.57\n",
      "4      2.19\n",
      "5     -4.14\n",
      "6      3.11\n",
      "7      2.48\n",
      "8      4.76\n",
      "9      7.86\n",
      "10     3.73\n",
      "Name: childpercchange, dtype: float64\n"
     ]
    }
   ],
   "source": [
    "range = (721, 722, 723, 724, 725, 726, 727, 728, 729, 730, 731)\n",
    "peers_childpercchange = groupperc.loc[groupperc['rankchildpercchange.'].isin(range)].reset_index(drop = True)\n",
    "print('The following are our peer communities, based on percent change in child population:')\n",
    "print('_________________________________________________________________________________________')\n",
    "\n",
    "print(peers_tbpercchange['FullName'])\n",
    "print(peers_tbpercchange['childpercchange'])"
   ]
  },
  {
   "cell_type": "markdown",
   "id": "ea1df676",
   "metadata": {},
   "source": [
    "## Change in population share for our same three groups\n",
    "\n",
    "Probably move these calculations to the first files and just export groups eventually for the entire project.... gonna finish this for now brain melting."
   ]
  },
  {
   "cell_type": "code",
   "execution_count": 142,
   "id": "d6b2a6bc",
   "metadata": {},
   "outputs": [],
   "source": [
    "cbsa['O*Pchild'] = cbsa['O*tu5'] + cbsa['O*tschool']/cbsa['O*total']\n",
    "cbsa['Pchild'] = cbsa['tu5'] + cbsa['tschool']/cbsa['total']\n",
    "cbsa['O*Ptaxbase'] = cbsa['O*t18_20s']+cbsa['O*t30s']+cbsa['O*t40s']+cbsa['O*t50_65']*100/cbsa['O*total']\n",
    "cbsa['Ptaxbase'] = cbsa['t18_20s']+cbsa['t30s']+cbsa['t40s']+cbsa['t50_65']*100/cbsa['total']\n",
    "\n",
    "cbsa['elderlysharechange'] = cbsa['Pto65'] - cbsa['O*Pto65']\n",
    "cbsa['tbsharechange'] = cbsa['Ptaxbase'] - cbsa['O*Ptaxbase']\n",
    "cbsa['childsharechange'] = cbsa['Pchild'] - cbsa['O*Pchild']"
   ]
  },
  {
   "cell_type": "code",
   "execution_count": 143,
   "id": "3170baa8",
   "metadata": {},
   "outputs": [],
   "source": [
    "#make another small dataframe to check out high and low values, who's around the Nashville MSA... etc.\n",
    "sharechange = cbsa[['FullName', 'CBSAFP', 'MetroMicro', 'geometry', 'elderlysharechange',\n",
    "                    'tbsharechange', 'childsharechange']]"
   ]
  },
  {
   "cell_type": "code",
   "execution_count": 144,
   "id": "00c012a0",
   "metadata": {},
   "outputs": [],
   "source": [
    "#create a list of the columns you want to rank and then create a for loop to write in the rankings as integers\n",
    "cols = ['elderlysharechange','tbsharechange','childsharechange']\n",
    "\n",
    "for i in cols:\n",
    "    sharechange['rank{}.'.format(i)] = sharechange['{}'.format(i)].rank().astype(int)\n",
    "    \n",
    "sharechange = sharechange.copy()"
   ]
  },
  {
   "cell_type": "code",
   "execution_count": 145,
   "id": "f1ca4f02",
   "metadata": {},
   "outputs": [],
   "source": [
    "#index into where the Nashville MSA is to check the rankings out\n",
    "nash = sharechange.loc[sharechange['CBSAFP'] == 34980].reset_index(drop = True)"
   ]
  },
  {
   "cell_type": "code",
   "execution_count": 146,
   "id": "86609e6a",
   "metadata": {},
   "outputs": [
    {
     "name": "stdout",
     "output_type": "stream",
     "text": [
      "The following number is Nashville's rank in total population share change in a 5 year over 5 year period for total elderly population:\n",
      "______________________________________________________________________________\n",
      "0    158\n",
      "Name: rankelderlysharechange., dtype: int32\n",
      "0    1.4\n",
      "Name: elderlysharechange, dtype: float64\n",
      "The following number is Nashville's rank in total population share change in a 5 year over 5 year period for total tax base population:\n",
      "______________________________________________________________________________\n",
      "0    892\n",
      "Name: ranktbsharechange., dtype: int32\n",
      "0    53492.867422\n",
      "Name: tbsharechange, dtype: float64\n",
      "The following number is Nashville's rank in total population share change in a 5 year over 5 year period for total child population:\n",
      "______________________________________________________________________________\n",
      "0    894\n",
      "Name: rankchildsharechange., dtype: int32\n",
      "0    4695.995252\n",
      "Name: childsharechange, dtype: float64\n"
     ]
    }
   ],
   "source": [
    "print(\"The following number is Nashville's rank in total population share change in a 5 year over 5 year period for total elderly population:\")\n",
    "print('______________________________________________________________________________')\n",
    "print(nash['rankelderlysharechange.'])\n",
    "print(nash['elderlysharechange'])\n",
    "print(\"The following number is Nashville's rank in total population share change in a 5 year over 5 year period for total tax base population:\")\n",
    "print('______________________________________________________________________________')\n",
    "print(nash['ranktbsharechange.'])\n",
    "print(nash['tbsharechange'])\n",
    "print(\"The following number is Nashville's rank in total population share change in a 5 year over 5 year period for total child population:\")\n",
    "print('______________________________________________________________________________')\n",
    "print(nash['rankchildsharechange.'])\n",
    "print(nash['childsharechange'])"
   ]
  },
  {
   "cell_type": "code",
   "execution_count": null,
   "id": "5542def1",
   "metadata": {},
   "outputs": [],
   "source": []
  }
 ],
 "metadata": {
  "kernelspec": {
   "display_name": "Python 3 (ipykernel)",
   "language": "python",
   "name": "python3"
  },
  "language_info": {
   "codemirror_mode": {
    "name": "ipython",
    "version": 3
   },
   "file_extension": ".py",
   "mimetype": "text/x-python",
   "name": "python",
   "nbconvert_exporter": "python",
   "pygments_lexer": "ipython3",
   "version": "3.8.5"
  }
 },
 "nbformat": 4,
 "nbformat_minor": 5
}
